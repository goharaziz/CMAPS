{
 "cells": [
  {
   "cell_type": "code",
   "execution_count": 1,
   "metadata": {},
   "outputs": [],
   "source": [
    "import numpy as np # linear algebra\n",
    "import pandas as pd # data processing, CSV file I/O (e.g. pd.read_csv)\n",
    "\n",
    "import os\n",
    "import scipy\n",
    "import string\n",
    "import pickle\n",
    "import warnings\n",
    "import numpy as np\n",
    "import pandas as pd\n",
    "import matplotlib.pyplot as plt\n",
    "\n",
    "from sklearn.preprocessing import LabelEncoder            \n",
    "from sklearn.svm import LinearSVC             \n",
    "from sklearn.naive_bayes import BernoulliNB\n",
    "from sklearn.ensemble import RandomForestClassifier          \n",
    "from sklearn.linear_model import LogisticRegression\n",
    "from sklearn.metrics import accuracy_score\n",
    "from sklearn import preprocessing\n",
    "from sklearn.model_selection import train_test_split\n",
    "from sklearn.datasets import load_iris\n",
    "from sklearn.preprocessing import StandardScaler\n",
    "\n",
    "from astropy.table import Table, Column\n",
    "import matplotlib.pyplot as plt\n",
    "\n",
    "from sklearn.model_selection import train_test_split"
   ]
  },
  {
   "cell_type": "code",
   "execution_count": 2,
   "metadata": {},
   "outputs": [],
   "source": [
    "import folium\n",
    "import matplotlib.pyplot as plt\n",
    "import seaborn as sns\n",
    "import chardet"
   ]
  },
  {
   "cell_type": "code",
   "execution_count": 3,
   "metadata": {},
   "outputs": [],
   "source": [
    "from sklearn import preprocessing\n",
    "\n",
    "label_encoder = preprocessing.LabelEncoder() "
   ]
  },
  {
   "cell_type": "code",
   "execution_count": 4,
   "metadata": {},
   "outputs": [
    {
     "name": "stdout",
     "output_type": "stream",
     "text": [
      "------------------------------------------------------\n",
      "------------------------------------------------------\n"
     ]
    },
    {
     "data": {
      "text/html": [
       "<div>\n",
       "<style scoped>\n",
       "    .dataframe tbody tr th:only-of-type {\n",
       "        vertical-align: middle;\n",
       "    }\n",
       "\n",
       "    .dataframe tbody tr th {\n",
       "        vertical-align: top;\n",
       "    }\n",
       "\n",
       "    .dataframe thead th {\n",
       "        text-align: right;\n",
       "    }\n",
       "</style>\n",
       "<table border=\"1\" class=\"dataframe\">\n",
       "  <thead>\n",
       "    <tr style=\"text-align: right;\">\n",
       "      <th></th>\n",
       "      <th>Posting</th>\n",
       "      <th>Date</th>\n",
       "      <th>Month</th>\n",
       "      <th>Year</th>\n",
       "      <th>Days</th>\n",
       "      <th>Time</th>\n",
       "      <th>Offences</th>\n",
       "      <th>Offence Categories</th>\n",
       "      <th>Part of the Day</th>\n",
       "      <th>Latitudes</th>\n",
       "      <th>Longitudes</th>\n",
       "      <th>TGAT</th>\n",
       "    </tr>\n",
       "  </thead>\n",
       "  <tbody>\n",
       "    <tr>\n",
       "      <th>0</th>\n",
       "      <td>Allama Iqbal Town</td>\n",
       "      <td>26</td>\n",
       "      <td>1</td>\n",
       "      <td>2018</td>\n",
       "      <td>Friday</td>\n",
       "      <td>0:00</td>\n",
       "      <td>Outraging the Modesty of Women</td>\n",
       "      <td>Crime Against Person</td>\n",
       "      <td>1st</td>\n",
       "      <td>31.5124</td>\n",
       "      <td>74.2845</td>\n",
       "      <td>31.5124,74.2845</td>\n",
       "    </tr>\n",
       "    <tr>\n",
       "      <th>1</th>\n",
       "      <td>Allama Iqbal Town</td>\n",
       "      <td>21</td>\n",
       "      <td>3</td>\n",
       "      <td>2018</td>\n",
       "      <td>Wednesday</td>\n",
       "      <td>0:00</td>\n",
       "      <td>Other Crime</td>\n",
       "      <td>Others</td>\n",
       "      <td>1st</td>\n",
       "      <td>31.5124</td>\n",
       "      <td>74.2845</td>\n",
       "      <td>31.5124,74.2845</td>\n",
       "    </tr>\n",
       "    <tr>\n",
       "      <th>2</th>\n",
       "      <td>Allama Iqbal Town</td>\n",
       "      <td>30</td>\n",
       "      <td>3</td>\n",
       "      <td>2018</td>\n",
       "      <td>Friday</td>\n",
       "      <td>0:00</td>\n",
       "      <td>Other Crime</td>\n",
       "      <td>Others</td>\n",
       "      <td>1st</td>\n",
       "      <td>31.5124</td>\n",
       "      <td>74.2845</td>\n",
       "      <td>31.5124,74.2845</td>\n",
       "    </tr>\n",
       "    <tr>\n",
       "      <th>3</th>\n",
       "      <td>Allama Iqbal Town</td>\n",
       "      <td>26</td>\n",
       "      <td>4</td>\n",
       "      <td>2018</td>\n",
       "      <td>Thursday</td>\n",
       "      <td>0:00</td>\n",
       "      <td>punjab arms ordinance bill of 2015</td>\n",
       "      <td>Ordinance</td>\n",
       "      <td>1st</td>\n",
       "      <td>31.5124</td>\n",
       "      <td>74.2845</td>\n",
       "      <td>31.5124,74.2845</td>\n",
       "    </tr>\n",
       "    <tr>\n",
       "      <th>4</th>\n",
       "      <td>Allama Iqbal Town</td>\n",
       "      <td>3</td>\n",
       "      <td>5</td>\n",
       "      <td>2018</td>\n",
       "      <td>Thursday</td>\n",
       "      <td>0:00</td>\n",
       "      <td>Other Crime</td>\n",
       "      <td>Others</td>\n",
       "      <td>1st</td>\n",
       "      <td>31.5124</td>\n",
       "      <td>74.2845</td>\n",
       "      <td>31.5124,74.2845</td>\n",
       "    </tr>\n",
       "  </tbody>\n",
       "</table>\n",
       "</div>"
      ],
      "text/plain": [
       "             Posting  Date  Month   Year       Days  Time  \\\n",
       "0  Allama Iqbal Town    26       1  2018     Friday  0:00   \n",
       "1  Allama Iqbal Town    21       3  2018  Wednesday  0:00   \n",
       "2  Allama Iqbal Town    30       3  2018     Friday  0:00   \n",
       "3  Allama Iqbal Town    26       4  2018   Thursday  0:00   \n",
       "4  Allama Iqbal Town     3       5  2018   Thursday  0:00   \n",
       "\n",
       "                             Offences    Offence Categories Part of the Day  \\\n",
       "0      Outraging the Modesty of Women  Crime Against Person             1st   \n",
       "1                         Other Crime                Others             1st   \n",
       "2                         Other Crime                Others             1st   \n",
       "3  punjab arms ordinance bill of 2015             Ordinance             1st   \n",
       "4                         Other Crime                Others             1st   \n",
       "\n",
       "   Latitudes  Longitudes             TGAT  \n",
       "0    31.5124     74.2845  31.5124,74.2845  \n",
       "1    31.5124     74.2845  31.5124,74.2845  \n",
       "2    31.5124     74.2845  31.5124,74.2845  \n",
       "3    31.5124     74.2845  31.5124,74.2845  \n",
       "4    31.5124     74.2845  31.5124,74.2845  "
      ]
     },
     "execution_count": 4,
     "metadata": {},
     "output_type": "execute_result"
    }
   ],
   "source": [
    "with open('C:\\\\Users\\zarnab shahid\\Downloads\\CMAPS_newData2.csv', 'rb') as f:\n",
    "    result = chardet.detect(f.read())  # or readline if the file is large\n",
    "    \n",
    "tr_df=pd.read_csv(r\"C:\\\\Users\\zarnab shahid\\Downloads\\CMAPS_newData2.csv\",encoding=result['encoding'])\n",
    "print(\"------------------------------------------------------\")\n",
    "print(\"------------------------------------------------------\")\n",
    "tr_df.head()"
   ]
  },
  {
   "cell_type": "code",
   "execution_count": 5,
   "metadata": {},
   "outputs": [],
   "source": [
    "tr_df.columns=['posting', 'date', 'month', 'year', 'day', 'time', 'offences', 'crime_categories','partoftheday','latitude','longitude','location']"
   ]
  },
  {
   "cell_type": "code",
   "execution_count": 6,
   "metadata": {},
   "outputs": [
    {
     "data": {
      "text/html": [
       "<div>\n",
       "<style scoped>\n",
       "    .dataframe tbody tr th:only-of-type {\n",
       "        vertical-align: middle;\n",
       "    }\n",
       "\n",
       "    .dataframe tbody tr th {\n",
       "        vertical-align: top;\n",
       "    }\n",
       "\n",
       "    .dataframe thead th {\n",
       "        text-align: right;\n",
       "    }\n",
       "</style>\n",
       "<table border=\"1\" class=\"dataframe\">\n",
       "  <thead>\n",
       "    <tr style=\"text-align: right;\">\n",
       "      <th></th>\n",
       "      <th>posting</th>\n",
       "      <th>date</th>\n",
       "      <th>month</th>\n",
       "      <th>year</th>\n",
       "      <th>day</th>\n",
       "      <th>time</th>\n",
       "      <th>offences</th>\n",
       "      <th>crime_categories</th>\n",
       "      <th>partoftheday</th>\n",
       "      <th>latitude</th>\n",
       "      <th>longitude</th>\n",
       "      <th>location</th>\n",
       "    </tr>\n",
       "  </thead>\n",
       "  <tbody>\n",
       "    <tr>\n",
       "      <th>0</th>\n",
       "      <td>Allama Iqbal Town</td>\n",
       "      <td>26</td>\n",
       "      <td>1</td>\n",
       "      <td>2018</td>\n",
       "      <td>Friday</td>\n",
       "      <td>0:00</td>\n",
       "      <td>Outraging the Modesty of Women</td>\n",
       "      <td>Crime Against Person</td>\n",
       "      <td>1st</td>\n",
       "      <td>31.5124</td>\n",
       "      <td>74.2845</td>\n",
       "      <td>31.5124,74.2845</td>\n",
       "    </tr>\n",
       "    <tr>\n",
       "      <th>6745</th>\n",
       "      <td>Cantt</td>\n",
       "      <td>8</td>\n",
       "      <td>6</td>\n",
       "      <td>2018</td>\n",
       "      <td>Friday</td>\n",
       "      <td>8:00</td>\n",
       "      <td>Other Crime</td>\n",
       "      <td>Others</td>\n",
       "      <td>2nd</td>\n",
       "      <td>31.5196</td>\n",
       "      <td>74.3889</td>\n",
       "      <td>31.5196,74.3889</td>\n",
       "    </tr>\n",
       "    <tr>\n",
       "      <th>23393</th>\n",
       "      <td>Mozang</td>\n",
       "      <td>21</td>\n",
       "      <td>9</td>\n",
       "      <td>2018</td>\n",
       "      <td>Friday</td>\n",
       "      <td>17:50</td>\n",
       "      <td>kite flying act</td>\n",
       "      <td>Others</td>\n",
       "      <td>5th</td>\n",
       "      <td>31.5597</td>\n",
       "      <td>74.3138</td>\n",
       "      <td>31.5597,74.3138</td>\n",
       "    </tr>\n",
       "    <tr>\n",
       "      <th>6742</th>\n",
       "      <td>Cantt</td>\n",
       "      <td>19</td>\n",
       "      <td>1</td>\n",
       "      <td>2018</td>\n",
       "      <td>Friday</td>\n",
       "      <td>8:00</td>\n",
       "      <td>Other Crime</td>\n",
       "      <td>Others</td>\n",
       "      <td>2nd</td>\n",
       "      <td>31.5196</td>\n",
       "      <td>74.3889</td>\n",
       "      <td>31.5196,74.3889</td>\n",
       "    </tr>\n",
       "    <tr>\n",
       "      <th>23404</th>\n",
       "      <td>Saman Abad</td>\n",
       "      <td>24</td>\n",
       "      <td>8</td>\n",
       "      <td>2018</td>\n",
       "      <td>Friday</td>\n",
       "      <td>17:50</td>\n",
       "      <td>kite flying act</td>\n",
       "      <td>Others</td>\n",
       "      <td>5th</td>\n",
       "      <td>31.5356</td>\n",
       "      <td>74.2985</td>\n",
       "      <td>31.5356,74.2985</td>\n",
       "    </tr>\n",
       "  </tbody>\n",
       "</table>\n",
       "</div>"
      ],
      "text/plain": [
       "                 posting  date  month  year     day   time  \\\n",
       "0      Allama Iqbal Town    26      1  2018  Friday   0:00   \n",
       "6745               Cantt     8      6  2018  Friday   8:00   \n",
       "23393             Mozang    21      9  2018  Friday  17:50   \n",
       "6742               Cantt    19      1  2018  Friday   8:00   \n",
       "23404         Saman Abad    24      8  2018  Friday  17:50   \n",
       "\n",
       "                             offences      crime_categories partoftheday  \\\n",
       "0      Outraging the Modesty of Women  Crime Against Person          1st   \n",
       "6745                      Other Crime                Others          2nd   \n",
       "23393                 kite flying act                Others          5th   \n",
       "6742                      Other Crime                Others          2nd   \n",
       "23404                 kite flying act                Others          5th   \n",
       "\n",
       "       latitude  longitude         location  \n",
       "0       31.5124    74.2845  31.5124,74.2845  \n",
       "6745    31.5196    74.3889  31.5196,74.3889  \n",
       "23393   31.5597    74.3138  31.5597,74.3138  \n",
       "6742    31.5196    74.3889  31.5196,74.3889  \n",
       "23404   31.5356    74.2985  31.5356,74.2985  "
      ]
     },
     "execution_count": 6,
     "metadata": {},
     "output_type": "execute_result"
    }
   ],
   "source": [
    "# Sort the rows of dataframe by column \n",
    "d_df1 = tr_df.sort_values(by ='day')\n",
    "d_df1.head()"
   ]
  },
  {
   "cell_type": "code",
   "execution_count": 7,
   "metadata": {},
   "outputs": [],
   "source": [
    "obj_df = tr_df"
   ]
  },
  {
   "cell_type": "code",
   "execution_count": 8,
   "metadata": {},
   "outputs": [
    {
     "name": "stderr",
     "output_type": "stream",
     "text": [
      "C:\\Users\\zarnab shahid\\Anaconda3\\lib\\site-packages\\sklearn\\preprocessing\\label.py:235: DataConversionWarning: A column-vector y was passed when a 1d array was expected. Please change the shape of y to (n_samples, ), for example using ravel().\n",
      "  y = column_or_1d(y, warn=True)\n"
     ]
    },
    {
     "data": {
      "text/html": [
       "<div>\n",
       "<style scoped>\n",
       "    .dataframe tbody tr th:only-of-type {\n",
       "        vertical-align: middle;\n",
       "    }\n",
       "\n",
       "    .dataframe tbody tr th {\n",
       "        vertical-align: top;\n",
       "    }\n",
       "\n",
       "    .dataframe thead th {\n",
       "        text-align: right;\n",
       "    }\n",
       "</style>\n",
       "<table border=\"1\" class=\"dataframe\">\n",
       "  <thead>\n",
       "    <tr style=\"text-align: right;\">\n",
       "      <th></th>\n",
       "      <th>offences</th>\n",
       "      <th>offences_code</th>\n",
       "    </tr>\n",
       "  </thead>\n",
       "  <tbody>\n",
       "    <tr>\n",
       "      <th>0</th>\n",
       "      <td>Outraging the Modesty of Women</td>\n",
       "      <td>32</td>\n",
       "    </tr>\n",
       "    <tr>\n",
       "      <th>1</th>\n",
       "      <td>Other Crime</td>\n",
       "      <td>29</td>\n",
       "    </tr>\n",
       "    <tr>\n",
       "      <th>2</th>\n",
       "      <td>Other Crime</td>\n",
       "      <td>29</td>\n",
       "    </tr>\n",
       "    <tr>\n",
       "      <th>3</th>\n",
       "      <td>punjab arms ordinance bill of 2015</td>\n",
       "      <td>68</td>\n",
       "    </tr>\n",
       "    <tr>\n",
       "      <th>4</th>\n",
       "      <td>Other Crime</td>\n",
       "      <td>29</td>\n",
       "    </tr>\n",
       "    <tr>\n",
       "      <th>5</th>\n",
       "      <td>punjab information temporary residence ordinance</td>\n",
       "      <td>70</td>\n",
       "    </tr>\n",
       "    <tr>\n",
       "      <th>6</th>\n",
       "      <td>Rape</td>\n",
       "      <td>40</td>\n",
       "    </tr>\n",
       "    <tr>\n",
       "      <th>7</th>\n",
       "      <td>Other Crime</td>\n",
       "      <td>29</td>\n",
       "    </tr>\n",
       "    <tr>\n",
       "      <th>8</th>\n",
       "      <td>M/Cycle Theft</td>\n",
       "      <td>24</td>\n",
       "    </tr>\n",
       "    <tr>\n",
       "      <th>9</th>\n",
       "      <td>Other Crime</td>\n",
       "      <td>29</td>\n",
       "    </tr>\n",
       "    <tr>\n",
       "      <th>10</th>\n",
       "      <td>Other Crime</td>\n",
       "      <td>29</td>\n",
       "    </tr>\n",
       "  </tbody>\n",
       "</table>\n",
       "</div>"
      ],
      "text/plain": [
       "                                            offences  offences_code\n",
       "0                     Outraging the Modesty of Women             32\n",
       "1                                        Other Crime             29\n",
       "2                                        Other Crime             29\n",
       "3                 punjab arms ordinance bill of 2015             68\n",
       "4                                        Other Crime             29\n",
       "5   punjab information temporary residence ordinance             70\n",
       "6                                               Rape             40\n",
       "7                                        Other Crime             29\n",
       "8                                      M/Cycle Theft             24\n",
       "9                                        Other Crime             29\n",
       "10                                       Other Crime             29"
      ]
     },
     "execution_count": 8,
     "metadata": {},
     "output_type": "execute_result"
    }
   ],
   "source": [
    "obj_df[\"offences_code\"] = label_encoder.fit_transform(obj_df[[\"offences\"]])\n",
    "obj_df[[\"offences\", \"offences_code\"]].head(11)"
   ]
  },
  {
   "cell_type": "code",
   "execution_count": 9,
   "metadata": {},
   "outputs": [
    {
     "data": {
      "text/plain": [
       "array([0, 1, 2, 3, 4, 5, 6], dtype=int64)"
      ]
     },
     "execution_count": 9,
     "metadata": {},
     "output_type": "execute_result"
    }
   ],
   "source": [
    "d_df1['day']= label_encoder.fit_transform(d_df1['day']) \n",
    "d_df1['day'].unique()"
   ]
  },
  {
   "cell_type": "code",
   "execution_count": 10,
   "metadata": {},
   "outputs": [
    {
     "data": {
      "text/plain": [
       "array([32, 29, 57, 25, 27, 65, 55, 33,  5, 24, 68, 47, 23, 20, 51, 42, 13,\n",
       "        3, 74, 31, 14, 17, 37, 71,  8, 70, 21,  2, 18, 40,  9, 26, 38, 28,\n",
       "       12, 48, 52, 62, 54, 60,  1, 50, 45, 72, 16, 44,  4, 10, 46, 35, 36,\n",
       "       53, 15, 22, 11, 43, 69, 63,  0, 58, 39, 34, 61,  7, 64, 76, 75, 56,\n",
       "       49, 19,  6, 30, 59, 66, 67, 73, 41], dtype=int64)"
      ]
     },
     "execution_count": 10,
     "metadata": {},
     "output_type": "execute_result"
    }
   ],
   "source": [
    "d_df1['offences']= label_encoder.fit_transform(d_df1['offences']) \n",
    "d_df1['offences'].unique()"
   ]
  },
  {
   "cell_type": "code",
   "execution_count": 11,
   "metadata": {},
   "outputs": [
    {
     "data": {
      "text/plain": [
       "array([ 9, 12, 22, 15, 26, 27,  8,  2,  6, 21, 24, 11, 16, 13, 14,  0, 10,\n",
       "        1,  5, 20,  3, 23,  4, 25,  7, 17, 19, 18], dtype=int64)"
      ]
     },
     "execution_count": 11,
     "metadata": {},
     "output_type": "execute_result"
    }
   ],
   "source": [
    "d_df1['offences']= label_encoder.fit_transform(d_df1['offences']) \n",
    "d_df1['offences'].unique()\n",
    "d_df1['time']= label_encoder.fit_transform(d_df1['time']) \n",
    "d_df1['time'].unique()\n",
    "d_df1['partoftheday']= label_encoder.fit_transform(d_df1['partoftheday']) \n",
    "d_df1['partoftheday'].unique()\n",
    "d_df1['posting']= label_encoder.fit_transform(d_df1['posting']) \n",
    "d_df1['posting'].unique()\n",
    "d_df1['location']= label_encoder.fit_transform(d_df1['location']) \n",
    "d_df1['location'].unique()"
   ]
  },
  {
   "cell_type": "code",
   "execution_count": 12,
   "metadata": {},
   "outputs": [
    {
     "data": {
      "text/plain": [
       "Index(['posting', 'date', 'month', 'year', 'day', 'time', 'offences',\n",
       "       'crime_categories', 'partoftheday', 'latitude', 'longitude',\n",
       "       'location'],\n",
       "      dtype='object')"
      ]
     },
     "execution_count": 12,
     "metadata": {},
     "output_type": "execute_result"
    }
   ],
   "source": [
    "d_df1.columns"
   ]
  },
  {
   "cell_type": "code",
   "execution_count": 13,
   "metadata": {},
   "outputs": [
    {
     "data": {
      "text/html": [
       "<div>\n",
       "<style scoped>\n",
       "    .dataframe tbody tr th:only-of-type {\n",
       "        vertical-align: middle;\n",
       "    }\n",
       "\n",
       "    .dataframe tbody tr th {\n",
       "        vertical-align: top;\n",
       "    }\n",
       "\n",
       "    .dataframe thead th {\n",
       "        text-align: right;\n",
       "    }\n",
       "</style>\n",
       "<table border=\"1\" class=\"dataframe\">\n",
       "  <thead>\n",
       "    <tr style=\"text-align: right;\">\n",
       "      <th></th>\n",
       "      <th>offences</th>\n",
       "    </tr>\n",
       "  </thead>\n",
       "  <tbody>\n",
       "    <tr>\n",
       "      <th>0</th>\n",
       "      <td>32</td>\n",
       "    </tr>\n",
       "    <tr>\n",
       "      <th>6745</th>\n",
       "      <td>29</td>\n",
       "    </tr>\n",
       "    <tr>\n",
       "      <th>23393</th>\n",
       "      <td>57</td>\n",
       "    </tr>\n",
       "    <tr>\n",
       "      <th>6742</th>\n",
       "      <td>29</td>\n",
       "    </tr>\n",
       "    <tr>\n",
       "      <th>23404</th>\n",
       "      <td>57</td>\n",
       "    </tr>\n",
       "  </tbody>\n",
       "</table>\n",
       "</div>"
      ],
      "text/plain": [
       "       offences\n",
       "0            32\n",
       "6745         29\n",
       "23393        57\n",
       "6742         29\n",
       "23404        57"
      ]
     },
     "execution_count": 13,
     "metadata": {},
     "output_type": "execute_result"
    }
   ],
   "source": [
    "X = d_df1.drop([ 'posting', 'date', 'month', 'year', 'day', 'time',\n",
    "       'crime_categories', 'partoftheday', 'latitude', 'longitude',\n",
    "       'location'] , axis=1)\n",
    "X.head()"
   ]
  },
  {
   "cell_type": "code",
   "execution_count": 14,
   "metadata": {},
   "outputs": [
    {
     "data": {
      "text/html": [
       "<div>\n",
       "<style scoped>\n",
       "    .dataframe tbody tr th:only-of-type {\n",
       "        vertical-align: middle;\n",
       "    }\n",
       "\n",
       "    .dataframe tbody tr th {\n",
       "        vertical-align: top;\n",
       "    }\n",
       "\n",
       "    .dataframe thead th {\n",
       "        text-align: right;\n",
       "    }\n",
       "</style>\n",
       "<table border=\"1\" class=\"dataframe\">\n",
       "  <thead>\n",
       "    <tr style=\"text-align: right;\">\n",
       "      <th></th>\n",
       "      <th>day</th>\n",
       "    </tr>\n",
       "  </thead>\n",
       "  <tbody>\n",
       "    <tr>\n",
       "      <th>0</th>\n",
       "      <td>0</td>\n",
       "    </tr>\n",
       "    <tr>\n",
       "      <th>6745</th>\n",
       "      <td>0</td>\n",
       "    </tr>\n",
       "    <tr>\n",
       "      <th>23393</th>\n",
       "      <td>0</td>\n",
       "    </tr>\n",
       "    <tr>\n",
       "      <th>6742</th>\n",
       "      <td>0</td>\n",
       "    </tr>\n",
       "    <tr>\n",
       "      <th>23404</th>\n",
       "      <td>0</td>\n",
       "    </tr>\n",
       "  </tbody>\n",
       "</table>\n",
       "</div>"
      ],
      "text/plain": [
       "       day\n",
       "0        0\n",
       "6745     0\n",
       "23393    0\n",
       "6742     0\n",
       "23404    0"
      ]
     },
     "execution_count": 14,
     "metadata": {},
     "output_type": "execute_result"
    }
   ],
   "source": [
    "y = d_df1.drop(['posting', 'date', 'month', 'year', 'crime_categories', 'time', 'offences','partoftheday','latitude','longitude','location'] , axis=1)\n",
    "y.head()"
   ]
  },
  {
   "cell_type": "code",
   "execution_count": 15,
   "metadata": {},
   "outputs": [],
   "source": [
    "from sklearn.model_selection import train_test_split\n",
    "X_train, X_test, y_train, y_test = train_test_split(X, y, test_size = 0.20)"
   ]
  },
  {
   "cell_type": "code",
   "execution_count": 16,
   "metadata": {},
   "outputs": [],
   "source": [
    "from sklearn.linear_model import LogisticRegression\n",
    "from sklearn.svm import SVC\n",
    "from sklearn.ensemble import RandomForestClassifier\n",
    "from sklearn.tree import DecisionTreeClassifier\n",
    "from sklearn.neighbors import KNeighborsClassifier\n",
    "from sklearn.model_selection import cross_val_score"
   ]
  },
  {
   "cell_type": "code",
   "execution_count": 17,
   "metadata": {},
   "outputs": [
    {
     "data": {
      "text/plain": [
       "0.18261595028717534"
      ]
     },
     "execution_count": 17,
     "metadata": {},
     "output_type": "execute_result"
    }
   ],
   "source": [
    "#rfc training data set\n",
    "scores_rfc = cross_val_score(RandomForestClassifier(n_estimators=40),X_train, y_train.values.ravel(), cv=5)\n",
    "np.average(scores_rfc)"
   ]
  },
  {
   "cell_type": "code",
   "execution_count": 15,
   "metadata": {},
   "outputs": [
    {
     "data": {
      "text/plain": [
       "0.16538028550703174"
      ]
     },
     "execution_count": 15,
     "metadata": {},
     "output_type": "execute_result"
    }
   ],
   "source": [
    "#rfc with full dataset\n",
    "scores_rfc = cross_val_score(RandomForestClassifier(n_estimators=40),X, y.values.ravel(), cv=5)\n",
    "np.average(scores_rfc)"
   ]
  },
  {
   "cell_type": "code",
   "execution_count": 16,
   "metadata": {},
   "outputs": [
    {
     "data": {
      "text/plain": [
       "0.15940433168570164"
      ]
     },
     "execution_count": 16,
     "metadata": {},
     "output_type": "execute_result"
    }
   ],
   "source": [
    "#knn with full dataset\n",
    "scores_knn = cross_val_score(KNeighborsClassifier(n_neighbors=40),X,y.values.ravel(),cv=5)\n",
    "np.average(scores_knn)"
   ]
  },
  {
   "cell_type": "code",
   "execution_count": 17,
   "metadata": {},
   "outputs": [
    {
     "data": {
      "text/plain": [
       "0.17447759883282626"
      ]
     },
     "execution_count": 17,
     "metadata": {},
     "output_type": "execute_result"
    }
   ],
   "source": [
    "#knn with train dataset\n",
    "scores_knn = cross_val_score(KNeighborsClassifier(n_neighbors=40),X_train,y_train.values.ravel(),cv=5)\n",
    "np.average(scores_knn)"
   ]
  },
  {
   "cell_type": "code",
   "execution_count": 18,
   "metadata": {},
   "outputs": [
    {
     "data": {
      "text/plain": [
       "0.16517228829934974"
      ]
     },
     "execution_count": 18,
     "metadata": {},
     "output_type": "execute_result"
    }
   ],
   "source": [
    "#dectree with full dataset \n",
    "scores_dec=cross_val_score(DecisionTreeClassifier( random_state=40),X,y.values.ravel(),cv=5)\n",
    "np.average(scores_dec)"
   ]
  },
  {
   "cell_type": "code",
   "execution_count": 19,
   "metadata": {},
   "outputs": [
    {
     "data": {
      "text/plain": [
       "0.18662790610302468"
      ]
     },
     "execution_count": 19,
     "metadata": {},
     "output_type": "execute_result"
    }
   ],
   "source": [
    "#dectree with train dataset \n",
    "scores_dec=cross_val_score(DecisionTreeClassifier( random_state=40),X_train,y_train.values.ravel(),cv=5)\n",
    "np.average(scores_dec)"
   ]
  },
  {
   "cell_type": "code",
   "execution_count": 40,
   "metadata": {},
   "outputs": [
    {
     "data": {
      "text/plain": [
       "0.16594788182136624"
      ]
     },
     "execution_count": 40,
     "metadata": {},
     "output_type": "execute_result"
    }
   ],
   "source": [
    "#lgr full dataset\n",
    "scores_lgr = cross_val_score(LogisticRegression(solver='liblinear',multi_class='ovr'), X, y.values.ravel(),cv=5)\n",
    "np.average(scores_lgr)"
   ]
  },
  {
   "cell_type": "code",
   "execution_count": 21,
   "metadata": {},
   "outputs": [
    {
     "data": {
      "text/plain": [
       "0.16693325701978884"
      ]
     },
     "execution_count": 21,
     "metadata": {},
     "output_type": "execute_result"
    }
   ],
   "source": [
    "#lgr train dataset\n",
    "scores_lgr = cross_val_score(LogisticRegression(solver='liblinear',multi_class='ovr'), X_train, y_train.values.ravel(),cv=5)\n",
    "np.average(scores_lgr)"
   ]
  },
  {
   "cell_type": "code",
   "execution_count": 15,
   "metadata": {},
   "outputs": [
    {
     "data": {
      "text/plain": [
       "0.18831747919143876"
      ]
     },
     "execution_count": 15,
     "metadata": {},
     "output_type": "execute_result"
    }
   ],
   "source": [
    "#Random Forest\n",
    "\n",
    "rf = RandomForestClassifier(n_estimators=40)\n",
    "rf.fit(X_train,y_train.values.ravel())\n",
    "rf.score(X_test, y_test.values.ravel())"
   ]
  },
  {
   "cell_type": "code",
   "execution_count": 16,
   "metadata": {},
   "outputs": [],
   "source": [
    "#saving pickle file\n",
    "# save the model to disk\n",
    "filename = 'finalized_model_day.sav'\n",
    "pickle.dump(rf, open(filename, 'wb'))"
   ]
  },
  {
   "cell_type": "code",
   "execution_count": 17,
   "metadata": {},
   "outputs": [
    {
     "name": "stdout",
     "output_type": "stream",
     "text": [
      "0.18831747919143876\n"
     ]
    }
   ],
   "source": [
    "# some time later...\n",
    " \n",
    "# load the model from disk\n",
    "loaded_model = pickle.load(open('finalized_model_day.sav', 'rb'))\n",
    "result = loaded_model.score(X_test, y_test)\n",
    "print(result)"
   ]
  },
  {
   "cell_type": "markdown",
   "metadata": {},
   "source": [
    "#key \n",
    "#'Friday' = 0 \n",
    "#'Monday' = 1 \n",
    "#'saturday'= 2 '\n",
    "#Sunday'=3 , \n",
    "#'Tuesday'=4 , \n",
    "#'Thursday'=5,\n",
    "#'Wednesday'=6. "
   ]
  },
  {
   "cell_type": "code",
   "execution_count": 18,
   "metadata": {},
   "outputs": [
    {
     "name": "stdout",
     "output_type": "stream",
     "text": [
      "Please enter crime :35\n",
      "   crime\n",
      "0     35\n",
      "There is a 18.831747919143876 % chance of this crime occuring on \u001b[1m Friday \n"
     ]
    }
   ],
   "source": [
    "#PREDICTING ON UNSEEN EXAMPLE\n",
    "#Taking Inputs:\n",
    "\n",
    "\n",
    "#posting = int(input(\"Please enter your GRE Score :\"))\n",
    "crime = int(input(\"Please enter crime :\"))\n",
    "\n",
    "\n",
    "user_data = pd.DataFrame({'crime':[crime]})\n",
    "print(user_data)\n",
    "\n",
    "user_model = scipy.sparse.csr_matrix(user_data.values)\n",
    "predict = loaded_model.predict(user_model)\n",
    "\n",
    "if (predict == 0):\n",
    "    print(\"There is a\", result*100 , \"% chance of this crime occuring on \\033[1m Friday \")\n",
    "elif(predict == 1):\n",
    "    print(\"There is a\", result*100 , \"% chance of this crime occuring on  \\033[1m Monday\")\n",
    "elif(predict == 2):\n",
    "     print(\"There is a\", result*100 , \"% chance of this crime occuring on  \\033[1m Saturday \")     \n",
    "elif(predict == 3):\n",
    "    print(\"There is a\", result*100 , \"% chance of this crime occuring on  \\033[1m Sunday \")\n",
    "elif(predict == 4):\n",
    "    print(\"There is a\", result*100 , \"% chance of this crime occuring on  \\033[1m Tuesday \")\n",
    "elif(predict == 5):\n",
    "    print(\"There is a\", result*100 , \"% chance of this crime occuring on  \\033[1m Thursday\")\n",
    "elif(predict == 6):\n",
    "    print(\"There is a\", result*100 , \"% chance of this crime occuring on  \\033[1m Wednesday\")"
   ]
  },
  {
   "cell_type": "code",
   "execution_count": null,
   "metadata": {},
   "outputs": [],
   "source": []
  }
 ],
 "metadata": {
  "kernelspec": {
   "display_name": "Python 3",
   "language": "python",
   "name": "python3"
  },
  "language_info": {
   "codemirror_mode": {
    "name": "ipython",
    "version": 3
   },
   "file_extension": ".py",
   "mimetype": "text/x-python",
   "name": "python",
   "nbconvert_exporter": "python",
   "pygments_lexer": "ipython3",
   "version": "3.7.3"
  }
 },
 "nbformat": 4,
 "nbformat_minor": 2
}
