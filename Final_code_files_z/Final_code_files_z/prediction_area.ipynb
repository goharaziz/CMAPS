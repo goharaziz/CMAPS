{
 "cells": [
  {
   "cell_type": "code",
   "execution_count": 2,
   "metadata": {},
   "outputs": [],
   "source": [
    "import numpy as np # linear algebra\n",
    "import pandas as pd # data processing, CSV file I/O (e.g. pd.read_csv)\n",
    "\n",
    "import os\n",
    "import scipy\n",
    "import string\n",
    "import pickle\n",
    "import warnings\n",
    "import numpy as np\n",
    "import pandas as pd\n",
    "import matplotlib.pyplot as plt\n",
    "\n",
    "from sklearn.preprocessing import LabelEncoder            \n",
    "from sklearn.svm import LinearSVC             \n",
    "from sklearn.naive_bayes import BernoulliNB\n",
    "from sklearn.ensemble import RandomForestClassifier          \n",
    "from sklearn.linear_model import LogisticRegression\n",
    "from sklearn.metrics import accuracy_score\n",
    "from sklearn import preprocessing\n",
    "from sklearn.model_selection import train_test_split\n",
    "from sklearn.datasets import load_iris\n",
    "from sklearn.preprocessing import StandardScaler\n",
    "\n",
    "from astropy.table import Table, Column\n",
    "import matplotlib.pyplot as plt\n",
    "\n",
    "from sklearn.model_selection import train_test_split"
   ]
  },
  {
   "cell_type": "code",
   "execution_count": 3,
   "metadata": {},
   "outputs": [],
   "source": [
    "import folium\n",
    "import matplotlib.pyplot as plt\n",
    "import seaborn as sns\n",
    "import chardet"
   ]
  },
  {
   "cell_type": "code",
   "execution_count": 4,
   "metadata": {},
   "outputs": [],
   "source": [
    "from sklearn import preprocessing\n",
    "\n",
    "label_encoder = preprocessing.LabelEncoder() "
   ]
  },
  {
   "cell_type": "code",
   "execution_count": 5,
   "metadata": {},
   "outputs": [
    {
     "name": "stdout",
     "output_type": "stream",
     "text": [
      "------------------------------------------------------\n",
      "------------------------------------------------------\n"
     ]
    },
    {
     "data": {
      "text/html": [
       "<div>\n",
       "<style scoped>\n",
       "    .dataframe tbody tr th:only-of-type {\n",
       "        vertical-align: middle;\n",
       "    }\n",
       "\n",
       "    .dataframe tbody tr th {\n",
       "        vertical-align: top;\n",
       "    }\n",
       "\n",
       "    .dataframe thead th {\n",
       "        text-align: right;\n",
       "    }\n",
       "</style>\n",
       "<table border=\"1\" class=\"dataframe\">\n",
       "  <thead>\n",
       "    <tr style=\"text-align: right;\">\n",
       "      <th></th>\n",
       "      <th>Posting</th>\n",
       "      <th>Date</th>\n",
       "      <th>Month</th>\n",
       "      <th>Year</th>\n",
       "      <th>Days</th>\n",
       "      <th>Time</th>\n",
       "      <th>Offences</th>\n",
       "      <th>Offence Categories</th>\n",
       "      <th>Part of the Day</th>\n",
       "      <th>Latitudes</th>\n",
       "      <th>Longitudes</th>\n",
       "      <th>TGAT</th>\n",
       "    </tr>\n",
       "  </thead>\n",
       "  <tbody>\n",
       "    <tr>\n",
       "      <th>0</th>\n",
       "      <td>Allama Iqbal Town</td>\n",
       "      <td>26</td>\n",
       "      <td>1</td>\n",
       "      <td>2018</td>\n",
       "      <td>Friday</td>\n",
       "      <td>0:00</td>\n",
       "      <td>Outraging the Modesty of Women</td>\n",
       "      <td>Crime Against Person</td>\n",
       "      <td>1st</td>\n",
       "      <td>31.5124</td>\n",
       "      <td>74.2845</td>\n",
       "      <td>31.5124,74.2845</td>\n",
       "    </tr>\n",
       "    <tr>\n",
       "      <th>1</th>\n",
       "      <td>Allama Iqbal Town</td>\n",
       "      <td>21</td>\n",
       "      <td>3</td>\n",
       "      <td>2018</td>\n",
       "      <td>Wednesday</td>\n",
       "      <td>0:00</td>\n",
       "      <td>Other Crime</td>\n",
       "      <td>Others</td>\n",
       "      <td>1st</td>\n",
       "      <td>31.5124</td>\n",
       "      <td>74.2845</td>\n",
       "      <td>31.5124,74.2845</td>\n",
       "    </tr>\n",
       "    <tr>\n",
       "      <th>2</th>\n",
       "      <td>Allama Iqbal Town</td>\n",
       "      <td>30</td>\n",
       "      <td>3</td>\n",
       "      <td>2018</td>\n",
       "      <td>Friday</td>\n",
       "      <td>0:00</td>\n",
       "      <td>Other Crime</td>\n",
       "      <td>Others</td>\n",
       "      <td>1st</td>\n",
       "      <td>31.5124</td>\n",
       "      <td>74.2845</td>\n",
       "      <td>31.5124,74.2845</td>\n",
       "    </tr>\n",
       "    <tr>\n",
       "      <th>3</th>\n",
       "      <td>Allama Iqbal Town</td>\n",
       "      <td>26</td>\n",
       "      <td>4</td>\n",
       "      <td>2018</td>\n",
       "      <td>Thursday</td>\n",
       "      <td>0:00</td>\n",
       "      <td>punjab arms ordinance bill of 2015</td>\n",
       "      <td>Ordinance</td>\n",
       "      <td>1st</td>\n",
       "      <td>31.5124</td>\n",
       "      <td>74.2845</td>\n",
       "      <td>31.5124,74.2845</td>\n",
       "    </tr>\n",
       "    <tr>\n",
       "      <th>4</th>\n",
       "      <td>Allama Iqbal Town</td>\n",
       "      <td>3</td>\n",
       "      <td>5</td>\n",
       "      <td>2018</td>\n",
       "      <td>Thursday</td>\n",
       "      <td>0:00</td>\n",
       "      <td>Other Crime</td>\n",
       "      <td>Others</td>\n",
       "      <td>1st</td>\n",
       "      <td>31.5124</td>\n",
       "      <td>74.2845</td>\n",
       "      <td>31.5124,74.2845</td>\n",
       "    </tr>\n",
       "  </tbody>\n",
       "</table>\n",
       "</div>"
      ],
      "text/plain": [
       "             Posting  Date  Month   Year       Days  Time  \\\n",
       "0  Allama Iqbal Town    26       1  2018     Friday  0:00   \n",
       "1  Allama Iqbal Town    21       3  2018  Wednesday  0:00   \n",
       "2  Allama Iqbal Town    30       3  2018     Friday  0:00   \n",
       "3  Allama Iqbal Town    26       4  2018   Thursday  0:00   \n",
       "4  Allama Iqbal Town     3       5  2018   Thursday  0:00   \n",
       "\n",
       "                             Offences    Offence Categories Part of the Day  \\\n",
       "0      Outraging the Modesty of Women  Crime Against Person             1st   \n",
       "1                         Other Crime                Others             1st   \n",
       "2                         Other Crime                Others             1st   \n",
       "3  punjab arms ordinance bill of 2015             Ordinance             1st   \n",
       "4                         Other Crime                Others             1st   \n",
       "\n",
       "   Latitudes  Longitudes             TGAT  \n",
       "0    31.5124     74.2845  31.5124,74.2845  \n",
       "1    31.5124     74.2845  31.5124,74.2845  \n",
       "2    31.5124     74.2845  31.5124,74.2845  \n",
       "3    31.5124     74.2845  31.5124,74.2845  \n",
       "4    31.5124     74.2845  31.5124,74.2845  "
      ]
     },
     "execution_count": 5,
     "metadata": {},
     "output_type": "execute_result"
    }
   ],
   "source": [
    "with open('C:\\\\Users\\zarnab shahid\\Downloads\\CMAPS_newData2.csv', 'rb') as f:\n",
    "    result = chardet.detect(f.read())  # or readline if the file is large\n",
    "    \n",
    "tr_df=pd.read_csv(r\"C:\\\\Users\\zarnab shahid\\Downloads\\CMAPS_newData2.csv\",encoding=result['encoding'])\n",
    "print(\"------------------------------------------------------\")\n",
    "print(\"------------------------------------------------------\")\n",
    "tr_df.head()"
   ]
  },
  {
   "cell_type": "code",
   "execution_count": 6,
   "metadata": {},
   "outputs": [],
   "source": [
    "tr_df.columns=['posting', 'date', 'month', 'year', 'day', 'time', 'offences', 'crime_categories','partoftheday','latitude','longitude','location']"
   ]
  },
  {
   "cell_type": "code",
   "execution_count": 7,
   "metadata": {},
   "outputs": [
    {
     "data": {
      "text/html": [
       "<div>\n",
       "<style scoped>\n",
       "    .dataframe tbody tr th:only-of-type {\n",
       "        vertical-align: middle;\n",
       "    }\n",
       "\n",
       "    .dataframe tbody tr th {\n",
       "        vertical-align: top;\n",
       "    }\n",
       "\n",
       "    .dataframe thead th {\n",
       "        text-align: right;\n",
       "    }\n",
       "</style>\n",
       "<table border=\"1\" class=\"dataframe\">\n",
       "  <thead>\n",
       "    <tr style=\"text-align: right;\">\n",
       "      <th></th>\n",
       "      <th>posting</th>\n",
       "      <th>date</th>\n",
       "      <th>month</th>\n",
       "      <th>year</th>\n",
       "      <th>day</th>\n",
       "      <th>time</th>\n",
       "      <th>offences</th>\n",
       "      <th>crime_categories</th>\n",
       "      <th>partoftheday</th>\n",
       "      <th>latitude</th>\n",
       "      <th>longitude</th>\n",
       "      <th>location</th>\n",
       "    </tr>\n",
       "  </thead>\n",
       "  <tbody>\n",
       "    <tr>\n",
       "      <th>0</th>\n",
       "      <td>Allama Iqbal Town</td>\n",
       "      <td>26</td>\n",
       "      <td>1</td>\n",
       "      <td>2018</td>\n",
       "      <td>Friday</td>\n",
       "      <td>0:00</td>\n",
       "      <td>Outraging the Modesty of Women</td>\n",
       "      <td>Crime Against Person</td>\n",
       "      <td>1st</td>\n",
       "      <td>31.5124</td>\n",
       "      <td>74.2845</td>\n",
       "      <td>31.5124,74.2845</td>\n",
       "    </tr>\n",
       "    <tr>\n",
       "      <th>27509</th>\n",
       "      <td>Allama Iqbal Town</td>\n",
       "      <td>26</td>\n",
       "      <td>8</td>\n",
       "      <td>2018</td>\n",
       "      <td>Sunday</td>\n",
       "      <td>20:10</td>\n",
       "      <td>Miscellaneous</td>\n",
       "      <td>Others</td>\n",
       "      <td>6th</td>\n",
       "      <td>31.5124</td>\n",
       "      <td>74.2845</td>\n",
       "      <td>31.5124,74.2845</td>\n",
       "    </tr>\n",
       "    <tr>\n",
       "      <th>27510</th>\n",
       "      <td>Allama Iqbal Town</td>\n",
       "      <td>15</td>\n",
       "      <td>12</td>\n",
       "      <td>2018</td>\n",
       "      <td>Saturday</td>\n",
       "      <td>20:10</td>\n",
       "      <td>Other Crime</td>\n",
       "      <td>Others</td>\n",
       "      <td>6th</td>\n",
       "      <td>31.5124</td>\n",
       "      <td>74.2845</td>\n",
       "      <td>31.5124,74.2845</td>\n",
       "    </tr>\n",
       "    <tr>\n",
       "      <th>16002</th>\n",
       "      <td>Allama Iqbal Town</td>\n",
       "      <td>4</td>\n",
       "      <td>9</td>\n",
       "      <td>2018</td>\n",
       "      <td>Tuesday</td>\n",
       "      <td>13:30</td>\n",
       "      <td>electricity act</td>\n",
       "      <td>Others</td>\n",
       "      <td>4th</td>\n",
       "      <td>31.5124</td>\n",
       "      <td>74.2845</td>\n",
       "      <td>31.5124,74.2845</td>\n",
       "    </tr>\n",
       "    <tr>\n",
       "      <th>16001</th>\n",
       "      <td>Allama Iqbal Town</td>\n",
       "      <td>4</td>\n",
       "      <td>9</td>\n",
       "      <td>2018</td>\n",
       "      <td>Tuesday</td>\n",
       "      <td>13:30</td>\n",
       "      <td>Other Crime</td>\n",
       "      <td>Others</td>\n",
       "      <td>4th</td>\n",
       "      <td>31.5124</td>\n",
       "      <td>74.2845</td>\n",
       "      <td>31.5124,74.2845</td>\n",
       "    </tr>\n",
       "  </tbody>\n",
       "</table>\n",
       "</div>"
      ],
      "text/plain": [
       "                 posting  date  month  year       day   time  \\\n",
       "0      Allama Iqbal Town    26      1  2018    Friday   0:00   \n",
       "27509  Allama Iqbal Town    26      8  2018    Sunday  20:10   \n",
       "27510  Allama Iqbal Town    15     12  2018  Saturday  20:10   \n",
       "16002  Allama Iqbal Town     4      9  2018   Tuesday  13:30   \n",
       "16001  Allama Iqbal Town     4      9  2018   Tuesday  13:30   \n",
       "\n",
       "                             offences      crime_categories partoftheday  \\\n",
       "0      Outraging the Modesty of Women  Crime Against Person          1st   \n",
       "27509                   Miscellaneous                Others          6th   \n",
       "27510                     Other Crime                Others          6th   \n",
       "16002                 electricity act                Others          4th   \n",
       "16001                     Other Crime                Others          4th   \n",
       "\n",
       "       latitude  longitude         location  \n",
       "0       31.5124    74.2845  31.5124,74.2845  \n",
       "27509   31.5124    74.2845  31.5124,74.2845  \n",
       "27510   31.5124    74.2845  31.5124,74.2845  \n",
       "16002   31.5124    74.2845  31.5124,74.2845  \n",
       "16001   31.5124    74.2845  31.5124,74.2845  "
      ]
     },
     "execution_count": 7,
     "metadata": {},
     "output_type": "execute_result"
    }
   ],
   "source": [
    "# Sort the rows of dataframe by column \n",
    "m_df1 = tr_df.sort_values(by ='posting')\n",
    "m_df1.head()"
   ]
  },
  {
   "cell_type": "code",
   "execution_count": 8,
   "metadata": {},
   "outputs": [
    {
     "data": {
      "text/plain": [
       "array(['Allama Iqbal Town', 'Anarkali', 'Cantt', 'Chung', 'Defence A',\n",
       "       'Faisal Town ', 'Gardan Town', 'Green Town', 'Gulberg',\n",
       "       'Gulshan Ravi ', 'Hadyara', 'Ichra', 'Johar Town', 'Lyton Road',\n",
       "       'Model Town', 'Mozang', 'Mughal Pura', 'Muslim Town',\n",
       "       'Race Course', 'Raiwind', 'Ravi Road ', 'Sabzazar', 'Saman Abad',\n",
       "       'Sarwar Road', 'Shad Bagh', 'Shadman', 'Shahdra Town',\n",
       "       'barki road', 'barki road '], dtype=object)"
      ]
     },
     "execution_count": 8,
     "metadata": {},
     "output_type": "execute_result"
    }
   ],
   "source": [
    "m_df1['posting'].unique()"
   ]
  },
  {
   "cell_type": "code",
   "execution_count": 9,
   "metadata": {},
   "outputs": [
    {
     "data": {
      "text/plain": [
       "array([ 0,  1,  2,  3,  4,  5,  6,  7,  8,  9, 10, 11, 12, 13, 14, 15, 16,\n",
       "       17, 18, 19, 20, 21, 22, 23, 24, 25, 26, 27, 28], dtype=int64)"
      ]
     },
     "execution_count": 9,
     "metadata": {},
     "output_type": "execute_result"
    }
   ],
   "source": [
    "m_df1['posting']= label_encoder.fit_transform(m_df1['posting']) \n",
    "m_df1['posting'].unique()"
   ]
  },
  {
   "cell_type": "code",
   "execution_count": 10,
   "metadata": {},
   "outputs": [
    {
     "data": {
      "text/plain": [
       "array([32, 25, 29, 55, 42, 47, 48, 20,  2, 70, 14, 40, 68,  9, 21, 34, 24,\n",
       "        5, 31, 74, 33, 57, 27, 17, 44, 26, 64, 72, 18, 46,  1,  3,  4, 65,\n",
       "       51,  8,  7, 23, 71, 13, 53, 16, 54, 37, 45, 62, 12, 52, 75, 38, 28,\n",
       "       63, 76, 11, 69, 61, 10, 58, 30, 60, 56, 50, 22, 66, 15,  0, 59, 19,\n",
       "       36, 39, 41, 67, 73, 43, 49, 35,  6], dtype=int64)"
      ]
     },
     "execution_count": 10,
     "metadata": {},
     "output_type": "execute_result"
    }
   ],
   "source": [
    "m_df1['offences']= label_encoder.fit_transform(m_df1['offences']) \n",
    "m_df1['offences'].unique()"
   ]
  },
  {
   "cell_type": "code",
   "execution_count": 11,
   "metadata": {},
   "outputs": [
    {
     "data": {
      "text/html": [
       "<div>\n",
       "<style scoped>\n",
       "    .dataframe tbody tr th:only-of-type {\n",
       "        vertical-align: middle;\n",
       "    }\n",
       "\n",
       "    .dataframe tbody tr th {\n",
       "        vertical-align: top;\n",
       "    }\n",
       "\n",
       "    .dataframe thead th {\n",
       "        text-align: right;\n",
       "    }\n",
       "</style>\n",
       "<table border=\"1\" class=\"dataframe\">\n",
       "  <thead>\n",
       "    <tr style=\"text-align: right;\">\n",
       "      <th></th>\n",
       "      <th>offences</th>\n",
       "    </tr>\n",
       "  </thead>\n",
       "  <tbody>\n",
       "    <tr>\n",
       "      <th>0</th>\n",
       "      <td>32</td>\n",
       "    </tr>\n",
       "    <tr>\n",
       "      <th>27509</th>\n",
       "      <td>25</td>\n",
       "    </tr>\n",
       "    <tr>\n",
       "      <th>27510</th>\n",
       "      <td>29</td>\n",
       "    </tr>\n",
       "    <tr>\n",
       "      <th>16002</th>\n",
       "      <td>55</td>\n",
       "    </tr>\n",
       "    <tr>\n",
       "      <th>16001</th>\n",
       "      <td>29</td>\n",
       "    </tr>\n",
       "  </tbody>\n",
       "</table>\n",
       "</div>"
      ],
      "text/plain": [
       "       offences\n",
       "0            32\n",
       "27509        25\n",
       "27510        29\n",
       "16002        55\n",
       "16001        29"
      ]
     },
     "execution_count": 11,
     "metadata": {},
     "output_type": "execute_result"
    }
   ],
   "source": [
    "X = m_df1.drop([ 'posting', 'date', 'month', 'year', 'day', 'time',\n",
    "       'crime_categories', 'partoftheday', 'latitude', 'longitude',\n",
    "       'location'] , axis=1)\n",
    "X.head()"
   ]
  },
  {
   "cell_type": "code",
   "execution_count": 12,
   "metadata": {},
   "outputs": [
    {
     "data": {
      "text/html": [
       "<div>\n",
       "<style scoped>\n",
       "    .dataframe tbody tr th:only-of-type {\n",
       "        vertical-align: middle;\n",
       "    }\n",
       "\n",
       "    .dataframe tbody tr th {\n",
       "        vertical-align: top;\n",
       "    }\n",
       "\n",
       "    .dataframe thead th {\n",
       "        text-align: right;\n",
       "    }\n",
       "</style>\n",
       "<table border=\"1\" class=\"dataframe\">\n",
       "  <thead>\n",
       "    <tr style=\"text-align: right;\">\n",
       "      <th></th>\n",
       "      <th>posting</th>\n",
       "    </tr>\n",
       "  </thead>\n",
       "  <tbody>\n",
       "    <tr>\n",
       "      <th>0</th>\n",
       "      <td>0</td>\n",
       "    </tr>\n",
       "    <tr>\n",
       "      <th>27509</th>\n",
       "      <td>0</td>\n",
       "    </tr>\n",
       "    <tr>\n",
       "      <th>27510</th>\n",
       "      <td>0</td>\n",
       "    </tr>\n",
       "    <tr>\n",
       "      <th>16002</th>\n",
       "      <td>0</td>\n",
       "    </tr>\n",
       "    <tr>\n",
       "      <th>16001</th>\n",
       "      <td>0</td>\n",
       "    </tr>\n",
       "  </tbody>\n",
       "</table>\n",
       "</div>"
      ],
      "text/plain": [
       "       posting\n",
       "0            0\n",
       "27509        0\n",
       "27510        0\n",
       "16002        0\n",
       "16001        0"
      ]
     },
     "execution_count": 12,
     "metadata": {},
     "output_type": "execute_result"
    }
   ],
   "source": [
    "y = m_df1.drop(['month', 'date', 'day', 'year', 'crime_categories', 'time', 'offences','partoftheday','latitude','longitude','location'] , axis=1)\n",
    "y.head()"
   ]
  },
  {
   "cell_type": "code",
   "execution_count": 13,
   "metadata": {},
   "outputs": [],
   "source": [
    "from sklearn.model_selection import train_test_split\n",
    "X_train, X_test, y_train, y_test = train_test_split(X, y, test_size = 0.20, random_state = 42)"
   ]
  },
  {
   "cell_type": "code",
   "execution_count": 14,
   "metadata": {},
   "outputs": [],
   "source": [
    "from sklearn.linear_model import LogisticRegression\n",
    "from sklearn.svm import SVC\n",
    "from sklearn.ensemble import RandomForestClassifier\n",
    "from sklearn.tree import DecisionTreeClassifier\n",
    "from sklearn.neighbors import KNeighborsClassifier\n",
    "from sklearn.model_selection import cross_val_score"
   ]
  },
  {
   "cell_type": "code",
   "execution_count": 35,
   "metadata": {},
   "outputs": [
    {
     "name": "stderr",
     "output_type": "stream",
     "text": [
      "C:\\Users\\zarnab shahid\\Anaconda3\\lib\\site-packages\\sklearn\\model_selection\\_split.py:657: Warning: The least populated class in y has only 1 members, which is too few. The minimum number of members in any class cannot be less than n_splits=5.\n",
      "  % (min_groups, self.n_splits)), Warning)\n"
     ]
    },
    {
     "data": {
      "text/plain": [
       "0.11951215467942074"
      ]
     },
     "execution_count": 35,
     "metadata": {},
     "output_type": "execute_result"
    }
   ],
   "source": [
    "#rfc training data set\n",
    "scores_rfc = cross_val_score(RandomForestClassifier(n_estimators=40),X_train, y_train.values.ravel(), cv=5)\n",
    "np.average(scores_rfc)"
   ]
  },
  {
   "cell_type": "code",
   "execution_count": 36,
   "metadata": {},
   "outputs": [
    {
     "name": "stderr",
     "output_type": "stream",
     "text": [
      "C:\\Users\\zarnab shahid\\Anaconda3\\lib\\site-packages\\sklearn\\model_selection\\_split.py:657: Warning: The least populated class in y has only 1 members, which is too few. The minimum number of members in any class cannot be less than n_splits=5.\n",
      "  % (min_groups, self.n_splits)), Warning)\n"
     ]
    },
    {
     "data": {
      "text/plain": [
       "0.11165045730265247"
      ]
     },
     "execution_count": 36,
     "metadata": {},
     "output_type": "execute_result"
    }
   ],
   "source": [
    "#rfc with full dataset\n",
    "scores_rfc = cross_val_score(RandomForestClassifier(n_estimators=40),X, y.values.ravel(), cv=5)\n",
    "np.average(scores_rfc)"
   ]
  },
  {
   "cell_type": "code",
   "execution_count": 37,
   "metadata": {},
   "outputs": [
    {
     "name": "stderr",
     "output_type": "stream",
     "text": [
      "C:\\Users\\zarnab shahid\\Anaconda3\\lib\\site-packages\\sklearn\\model_selection\\_split.py:657: Warning: The least populated class in y has only 1 members, which is too few. The minimum number of members in any class cannot be less than n_splits=5.\n",
      "  % (min_groups, self.n_splits)), Warning)\n"
     ]
    },
    {
     "data": {
      "text/plain": [
       "0.07820417230953534"
      ]
     },
     "execution_count": 37,
     "metadata": {},
     "output_type": "execute_result"
    }
   ],
   "source": [
    "#knn with full dataset\n",
    "scores_knn = cross_val_score(KNeighborsClassifier(n_neighbors=40),X,y.values.ravel(),cv=5)\n",
    "np.average(scores_knn)"
   ]
  },
  {
   "cell_type": "code",
   "execution_count": 38,
   "metadata": {},
   "outputs": [
    {
     "name": "stderr",
     "output_type": "stream",
     "text": [
      "C:\\Users\\zarnab shahid\\Anaconda3\\lib\\site-packages\\sklearn\\model_selection\\_split.py:657: Warning: The least populated class in y has only 1 members, which is too few. The minimum number of members in any class cannot be less than n_splits=5.\n",
      "  % (min_groups, self.n_splits)), Warning)\n"
     ]
    },
    {
     "data": {
      "text/plain": [
       "0.09029724699700008"
      ]
     },
     "execution_count": 38,
     "metadata": {},
     "output_type": "execute_result"
    }
   ],
   "source": [
    "#knn with train dataset\n",
    "scores_knn = cross_val_score(KNeighborsClassifier(n_neighbors=40),X_train,y_train.values.ravel(),cv=5)\n",
    "np.average(scores_knn)"
   ]
  },
  {
   "cell_type": "code",
   "execution_count": 39,
   "metadata": {},
   "outputs": [
    {
     "name": "stderr",
     "output_type": "stream",
     "text": [
      "C:\\Users\\zarnab shahid\\Anaconda3\\lib\\site-packages\\sklearn\\model_selection\\_split.py:657: Warning: The least populated class in y has only 1 members, which is too few. The minimum number of members in any class cannot be less than n_splits=5.\n",
      "  % (min_groups, self.n_splits)), Warning)\n"
     ]
    },
    {
     "data": {
      "text/plain": [
       "0.11272132468390002"
      ]
     },
     "execution_count": 39,
     "metadata": {},
     "output_type": "execute_result"
    }
   ],
   "source": [
    "#dectree with full dataset \n",
    "scores_dec=cross_val_score(DecisionTreeClassifier( random_state=40),X,y.values.ravel(),cv=5)\n",
    "np.average(scores_dec)"
   ]
  },
  {
   "cell_type": "code",
   "execution_count": 41,
   "metadata": {},
   "outputs": [
    {
     "name": "stderr",
     "output_type": "stream",
     "text": [
      "C:\\Users\\zarnab shahid\\Anaconda3\\lib\\site-packages\\sklearn\\model_selection\\_split.py:657: Warning: The least populated class in y has only 1 members, which is too few. The minimum number of members in any class cannot be less than n_splits=5.\n",
      "  % (min_groups, self.n_splits)), Warning)\n"
     ]
    },
    {
     "data": {
      "text/plain": [
       "0.09816580037750355"
      ]
     },
     "execution_count": 41,
     "metadata": {},
     "output_type": "execute_result"
    }
   ],
   "source": [
    "#lgr full dataset\n",
    "scores_lgr = cross_val_score(LogisticRegression(solver='liblinear',multi_class='ovr'), X, y.values.ravel(),cv=5)\n",
    "np.average(scores_lgr)"
   ]
  },
  {
   "cell_type": "code",
   "execution_count": 42,
   "metadata": {},
   "outputs": [
    {
     "name": "stderr",
     "output_type": "stream",
     "text": [
      "C:\\Users\\zarnab shahid\\Anaconda3\\lib\\site-packages\\sklearn\\model_selection\\_split.py:657: Warning: The least populated class in y has only 1 members, which is too few. The minimum number of members in any class cannot be less than n_splits=5.\n",
      "  % (min_groups, self.n_splits)), Warning)\n"
     ]
    },
    {
     "data": {
      "text/plain": [
       "0.09725383922627857"
      ]
     },
     "execution_count": 42,
     "metadata": {},
     "output_type": "execute_result"
    }
   ],
   "source": [
    "#lgr train dataset\n",
    "scores_lgr = cross_val_score(LogisticRegression(solver='liblinear',multi_class='ovr'), X_train, y_train.values.ravel(),cv=5)\n",
    "np.average(scores_lgr)"
   ]
  },
  {
   "cell_type": "code",
   "execution_count": 40,
   "metadata": {},
   "outputs": [
    {
     "name": "stderr",
     "output_type": "stream",
     "text": [
      "C:\\Users\\zarnab shahid\\Anaconda3\\lib\\site-packages\\sklearn\\model_selection\\_split.py:657: Warning: The least populated class in y has only 1 members, which is too few. The minimum number of members in any class cannot be less than n_splits=5.\n",
      "  % (min_groups, self.n_splits)), Warning)\n"
     ]
    },
    {
     "data": {
      "text/plain": [
       "0.12051475645577699"
      ]
     },
     "execution_count": 40,
     "metadata": {},
     "output_type": "execute_result"
    }
   ],
   "source": [
    "#dectree with train dataset \n",
    "scores_dec=cross_val_score(DecisionTreeClassifier( random_state=40),X_train,y_train.values.ravel(),cv=5)\n",
    "np.average(scores_dec)"
   ]
  },
  {
   "cell_type": "code",
   "execution_count": 15,
   "metadata": {},
   "outputs": [
    {
     "data": {
      "text/plain": [
       "0.12633769322235433"
      ]
     },
     "execution_count": 15,
     "metadata": {},
     "output_type": "execute_result"
    }
   ],
   "source": [
    "#Decision tree classifier \n",
    "\n",
    "dec = DecisionTreeClassifier( random_state=40)\n",
    "dec.fit(X_train,y_train.values.ravel())\n",
    "dec.score(X_test, y_test.values.ravel())"
   ]
  },
  {
   "cell_type": "code",
   "execution_count": 16,
   "metadata": {},
   "outputs": [],
   "source": [
    "#saving pickle file\n",
    "# save the model to disk\n",
    "filename = 'finalized_model_area.sav'\n",
    "pickle.dump(dec, open(filename, 'wb'))"
   ]
  },
  {
   "cell_type": "code",
   "execution_count": 17,
   "metadata": {},
   "outputs": [
    {
     "name": "stdout",
     "output_type": "stream",
     "text": [
      "0.12633769322235433\n"
     ]
    }
   ],
   "source": [
    "# some time later...\n",
    " \n",
    "# load the model from disk\n",
    "loaded_model = pickle.load(open('finalized_model_area.sav', 'rb'))\n",
    "result = loaded_model.score(X_test, y_test)\n",
    "print(result)"
   ]
  },
  {
   "cell_type": "markdown",
   "metadata": {},
   "source": [
    "key \n",
    "'Allama Iqbal Town' = 0, \n",
    "'Anarkali'=1\n",
    "'Cantt'= 2\n",
    "'Chung'= 3\n",
    "'Defence A'= 4\n",
    "'Faisal Town ' =5\n",
    "'Gardan Town'= 6\n",
    "'Green Town'= 7\n",
    "'Gulberg'= 8\n",
    "'Gulshan Ravi '= 9\n",
    "'Hadyara' = 10\n",
    "'Ichra'= 11\n",
    "'Johar Town' =12\n",
    "'Lyton Road'= 13\n",
    "'Model Town'= 14\n",
    "'Mozang'= 15\n",
    "'Mughal Pura'= 16\n",
    "'Muslim Town' = 17\n",
    "'Race Course'= 18\n",
    "'Raiwind'= 19\n",
    "'Ravi Road '= 20\n",
    "'Sabzazar'= 21\n",
    "'Saman Abad'= 22\n",
    "'Sarwar Road'= 23\n",
    "'Shad Bagh'= 24\n",
    "'Shadman'= 25\n",
    "'Shahdra Town'= 26\n",
    "'barki road'= 27\n",
    "'barki road' = 28"
   ]
  },
  {
   "cell_type": "code",
   "execution_count": 18,
   "metadata": {},
   "outputs": [
    {
     "name": "stdout",
     "output_type": "stream",
     "text": [
      "Please enter crime :35\n",
      "There is a 12.633769322235434 % chance of this crime occuring in \u001b[1m barki road\n"
     ]
    }
   ],
   "source": [
    "#PREDICTING ON UNSEEN EXAMPLE\n",
    "#Taking Inputs:\n",
    "\n",
    "\n",
    "#posting = int(input(\"Please enter your GRE Score :\"))\n",
    "crime = int(input(\"Please enter crime :\"))\n",
    "\n",
    "\n",
    "user_data = pd.DataFrame({'crime':[crime]})\n",
    "\n",
    "user_model = scipy.sparse.csr_matrix(user_data.values)\n",
    "predict = loaded_model.predict(user_model)\n",
    "\n",
    "if (predict == 0):\n",
    "    print(\"There is a\", result*100 , \"% chance of this crime occuring in \\033[1m  Allama Iqbal Town\")\n",
    "elif(predict == 1):\n",
    "    print(\"There is a\", result*100 , \"% chance of this crime occuring in \\033[1m Anarkali\")\n",
    "elif(predict == 2):\n",
    "     print(\"There is a\", result*100 , \"% chance of this crime occuring in \\033[1m Cantt\")     \n",
    "elif(predict == 3):\n",
    "    print(\"There is a\", result*100 , \"% chance of this crime occuring in \\033[1m Chung\")\n",
    "elif(predict == 4):\n",
    "    print(\"There is a\", result*100 , \"% chance of this crime occuring in \\033[1m Defence A\")\n",
    "elif(predict == 5):\n",
    "    print(\"There is a\", result*100 , \"% chance of this crime occuring in \\033[1m Faisal Town\")\n",
    "elif(predict == 6):\n",
    "    print(\"There is a\", result*100 , \"% chance of this crime occuring in \\033[1m Gardan Town\")\n",
    "elif(predict == 7):\n",
    "    print(\"There is a\", result*100 , \"% chance of this crime occuring in \\033[1m Green Town\")\n",
    "elif(predict == 8):\n",
    "    print(\"There is a\", result*100 , \"% chance of this crime occuring in \\033[1m Gulberg\")\n",
    "elif(predict == 9):\n",
    "    print(\"There is a\", result*100 , \"% chance of this crime occuring in \\033[1m Gulshan Ravi\")\n",
    "elif(predict == 10):\n",
    "    print(\"There is a\", result*100 , \"% chance of this crime occuring in \\033[1m Hadyara\")\n",
    "elif(predict == 11):\n",
    "    print(\"There is a\", result*100 , \"% chance of this crime occuring in \\033[1m Ichra\")\n",
    "elif(predict == 12):\n",
    "    print(\"There is a\", result*100 , \"% chance of this crime occuring in \\033[1m Johar Town\")\n",
    "elif(predict == 13):\n",
    "    print(\"There is a\", result*100 , \"% chance of this crime occuring in \\033[1m Lyton Road\")\n",
    "elif(predict == 14):\n",
    "    print(\"There is a\", result*100 , \"% chance of this crime occuring in \\033[1m Model Town\")\n",
    "elif(predict == 15):\n",
    "    print(\"There is a\", result*100 , \"% chance of this crime occuring in \\033[1m Mozang\")\n",
    "elif(predict == 16):\n",
    "    print(\"There is a\", result*100 , \"% chance of this crime occuring in \\033[1m Mughal Pura\")\n",
    "elif(predict == 17):\n",
    "    print(\"There is a\", result*100 , \"% chance of this crime occuring in \\033[1m Muslim Town\")\n",
    "elif(predict == 18):\n",
    "    print(\"There is a\", result*100 , \"% chance of this crime occuring in \\033[1m Race Course\")\n",
    "elif(predict == 19):\n",
    "    print(\"There is a\", result*100 , \"% chance of this crime occuring in \\033[1m Raiwind\")\n",
    "elif(predict == 20):\n",
    "    print(\"There is a\", result*100 , \"% chance of this crime occuring in \\033[1m Ravi Road\")\n",
    "elif(predict == 21):\n",
    "    print(\"There is a\", result*100 , \"% chance of this crime occuring in \\033[1m Sabzazar\")\n",
    "elif(predict == 22):\n",
    "    print(\"There is a\", result*100 , \"% chance of this crime occuring in \\033[1m Saman Abad\")\n",
    "elif(predict == 23):\n",
    "    print(\"There is a\", result*100 , \"% chance of this crime occuring in \\033[1m Sarwar Road\")\n",
    "elif(predict == 24):\n",
    "    print(\"There is a\", result*100 , \"% chance of this crime occuring in \\033[1m Shad Bagh Abad\")\n",
    "elif(predict == 25):\n",
    "    print(\"There is a\", result*100 , \"% chance of this crime occuring in \\033[1m Shadman\")\n",
    "elif(predict == 26):\n",
    "    print(\"There is a\", result*100 , \"% chance of this crime occuring in \\033[1m Shahdra Town\")\n",
    "elif(predict == 27):\n",
    "    print(\"There is a\", result*100 , \"% chance of this crime occuring in \\033[1m barki road\")\n",
    "elif(predict == 28):\n",
    "    print(\"There is a\", result*100 , \"% chance of this crime occuring in \\033[1m barki road\")"
   ]
  },
  {
   "cell_type": "code",
   "execution_count": null,
   "metadata": {},
   "outputs": [],
   "source": []
  },
  {
   "cell_type": "code",
   "execution_count": null,
   "metadata": {},
   "outputs": [],
   "source": []
  }
 ],
 "metadata": {
  "kernelspec": {
   "display_name": "Python 3",
   "language": "python",
   "name": "python3"
  },
  "language_info": {
   "codemirror_mode": {
    "name": "ipython",
    "version": 3
   },
   "file_extension": ".py",
   "mimetype": "text/x-python",
   "name": "python",
   "nbconvert_exporter": "python",
   "pygments_lexer": "ipython3",
   "version": "3.7.3"
  }
 },
 "nbformat": 4,
 "nbformat_minor": 2
}
