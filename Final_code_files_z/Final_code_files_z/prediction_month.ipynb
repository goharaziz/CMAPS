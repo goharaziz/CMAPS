{
 "cells": [
  {
   "cell_type": "code",
   "execution_count": 1,
   "metadata": {},
   "outputs": [],
   "source": [
    "import numpy as np # linear algebra\n",
    "import pandas as pd # data processing, CSV file I/O (e.g. pd.read_csv)\n",
    "\n",
    "import os\n",
    "import scipy\n",
    "import string\n",
    "import pickle\n",
    "import warnings\n",
    "import numpy as np\n",
    "import pandas as pd\n",
    "import matplotlib.pyplot as plt\n",
    "\n",
    "from sklearn.preprocessing import LabelEncoder            \n",
    "from sklearn.svm import LinearSVC             \n",
    "from sklearn.naive_bayes import BernoulliNB\n",
    "from sklearn.ensemble import RandomForestClassifier          \n",
    "from sklearn.linear_model import LogisticRegression\n",
    "from sklearn.metrics import accuracy_score\n",
    "from sklearn import preprocessing\n",
    "from sklearn.model_selection import train_test_split\n",
    "from sklearn.datasets import load_iris\n",
    "from sklearn.preprocessing import StandardScaler\n",
    "\n",
    "from astropy.table import Table, Column\n",
    "import matplotlib.pyplot as plt\n",
    "\n",
    "from sklearn.model_selection import train_test_split"
   ]
  },
  {
   "cell_type": "code",
   "execution_count": 2,
   "metadata": {},
   "outputs": [],
   "source": [
    "import folium\n",
    "import matplotlib.pyplot as plt\n",
    "import seaborn as sns\n",
    "import chardet"
   ]
  },
  {
   "cell_type": "code",
   "execution_count": 3,
   "metadata": {},
   "outputs": [],
   "source": [
    "from sklearn import preprocessing\n",
    "\n",
    "label_encoder = preprocessing.LabelEncoder() "
   ]
  },
  {
   "cell_type": "code",
   "execution_count": 28,
   "metadata": {},
   "outputs": [
    {
     "name": "stdout",
     "output_type": "stream",
     "text": [
      "------------------------------------------------------\n",
      "------------------------------------------------------\n"
     ]
    },
    {
     "data": {
      "text/html": [
       "<div>\n",
       "<style scoped>\n",
       "    .dataframe tbody tr th:only-of-type {\n",
       "        vertical-align: middle;\n",
       "    }\n",
       "\n",
       "    .dataframe tbody tr th {\n",
       "        vertical-align: top;\n",
       "    }\n",
       "\n",
       "    .dataframe thead th {\n",
       "        text-align: right;\n",
       "    }\n",
       "</style>\n",
       "<table border=\"1\" class=\"dataframe\">\n",
       "  <thead>\n",
       "    <tr style=\"text-align: right;\">\n",
       "      <th></th>\n",
       "      <th>Posting</th>\n",
       "      <th>Date</th>\n",
       "      <th>Month</th>\n",
       "      <th>Year</th>\n",
       "      <th>Days</th>\n",
       "      <th>Time</th>\n",
       "      <th>Offences</th>\n",
       "      <th>Offence Categories</th>\n",
       "      <th>Part of the Day</th>\n",
       "      <th>Latitudes</th>\n",
       "      <th>Longitudes</th>\n",
       "      <th>TGAT</th>\n",
       "    </tr>\n",
       "  </thead>\n",
       "  <tbody>\n",
       "    <tr>\n",
       "      <th>0</th>\n",
       "      <td>Allama Iqbal Town</td>\n",
       "      <td>26</td>\n",
       "      <td>1</td>\n",
       "      <td>2018</td>\n",
       "      <td>Friday</td>\n",
       "      <td>0:00</td>\n",
       "      <td>Outraging the Modesty of Women</td>\n",
       "      <td>Crime Against Person</td>\n",
       "      <td>1st</td>\n",
       "      <td>31.5124</td>\n",
       "      <td>74.2845</td>\n",
       "      <td>31.5124,74.2845</td>\n",
       "    </tr>\n",
       "    <tr>\n",
       "      <th>1</th>\n",
       "      <td>Allama Iqbal Town</td>\n",
       "      <td>21</td>\n",
       "      <td>3</td>\n",
       "      <td>2018</td>\n",
       "      <td>Wednesday</td>\n",
       "      <td>0:00</td>\n",
       "      <td>Other Crime</td>\n",
       "      <td>Others</td>\n",
       "      <td>1st</td>\n",
       "      <td>31.5124</td>\n",
       "      <td>74.2845</td>\n",
       "      <td>31.5124,74.2845</td>\n",
       "    </tr>\n",
       "    <tr>\n",
       "      <th>2</th>\n",
       "      <td>Allama Iqbal Town</td>\n",
       "      <td>30</td>\n",
       "      <td>3</td>\n",
       "      <td>2018</td>\n",
       "      <td>Friday</td>\n",
       "      <td>0:00</td>\n",
       "      <td>Other Crime</td>\n",
       "      <td>Others</td>\n",
       "      <td>1st</td>\n",
       "      <td>31.5124</td>\n",
       "      <td>74.2845</td>\n",
       "      <td>31.5124,74.2845</td>\n",
       "    </tr>\n",
       "    <tr>\n",
       "      <th>3</th>\n",
       "      <td>Allama Iqbal Town</td>\n",
       "      <td>26</td>\n",
       "      <td>4</td>\n",
       "      <td>2018</td>\n",
       "      <td>Thursday</td>\n",
       "      <td>0:00</td>\n",
       "      <td>punjab arms ordinance bill of 2015</td>\n",
       "      <td>Ordinance</td>\n",
       "      <td>1st</td>\n",
       "      <td>31.5124</td>\n",
       "      <td>74.2845</td>\n",
       "      <td>31.5124,74.2845</td>\n",
       "    </tr>\n",
       "    <tr>\n",
       "      <th>4</th>\n",
       "      <td>Allama Iqbal Town</td>\n",
       "      <td>3</td>\n",
       "      <td>5</td>\n",
       "      <td>2018</td>\n",
       "      <td>Thursday</td>\n",
       "      <td>0:00</td>\n",
       "      <td>Other Crime</td>\n",
       "      <td>Others</td>\n",
       "      <td>1st</td>\n",
       "      <td>31.5124</td>\n",
       "      <td>74.2845</td>\n",
       "      <td>31.5124,74.2845</td>\n",
       "    </tr>\n",
       "  </tbody>\n",
       "</table>\n",
       "</div>"
      ],
      "text/plain": [
       "             Posting  Date  Month   Year       Days  Time  \\\n",
       "0  Allama Iqbal Town    26       1  2018     Friday  0:00   \n",
       "1  Allama Iqbal Town    21       3  2018  Wednesday  0:00   \n",
       "2  Allama Iqbal Town    30       3  2018     Friday  0:00   \n",
       "3  Allama Iqbal Town    26       4  2018   Thursday  0:00   \n",
       "4  Allama Iqbal Town     3       5  2018   Thursday  0:00   \n",
       "\n",
       "                             Offences    Offence Categories Part of the Day  \\\n",
       "0      Outraging the Modesty of Women  Crime Against Person             1st   \n",
       "1                         Other Crime                Others             1st   \n",
       "2                         Other Crime                Others             1st   \n",
       "3  punjab arms ordinance bill of 2015             Ordinance             1st   \n",
       "4                         Other Crime                Others             1st   \n",
       "\n",
       "   Latitudes  Longitudes             TGAT  \n",
       "0    31.5124     74.2845  31.5124,74.2845  \n",
       "1    31.5124     74.2845  31.5124,74.2845  \n",
       "2    31.5124     74.2845  31.5124,74.2845  \n",
       "3    31.5124     74.2845  31.5124,74.2845  \n",
       "4    31.5124     74.2845  31.5124,74.2845  "
      ]
     },
     "execution_count": 28,
     "metadata": {},
     "output_type": "execute_result"
    }
   ],
   "source": [
    "with open('C:\\\\Users\\zarnab shahid\\Downloads\\CMAPS_newData2.csv', 'rb') as f:\n",
    "    result = chardet.detect(f.read())  # or readline if the file is large\n",
    "    \n",
    "tr_df=pd.read_csv(r\"C:\\\\Users\\zarnab shahid\\Downloads\\CMAPS_newData2.csv\",encoding=result['encoding'])\n",
    "print(\"------------------------------------------------------\")\n",
    "print(\"------------------------------------------------------\")\n",
    "tr_df.head()"
   ]
  },
  {
   "cell_type": "code",
   "execution_count": 29,
   "metadata": {},
   "outputs": [],
   "source": [
    "tr_df.columns=['posting', 'date', 'month', 'year', 'day', 'time', 'offences', 'crime_categories','partoftheday','latitude','longitude','location']"
   ]
  },
  {
   "cell_type": "code",
   "execution_count": 30,
   "metadata": {},
   "outputs": [
    {
     "data": {
      "text/html": [
       "<div>\n",
       "<style scoped>\n",
       "    .dataframe tbody tr th:only-of-type {\n",
       "        vertical-align: middle;\n",
       "    }\n",
       "\n",
       "    .dataframe tbody tr th {\n",
       "        vertical-align: top;\n",
       "    }\n",
       "\n",
       "    .dataframe thead th {\n",
       "        text-align: right;\n",
       "    }\n",
       "</style>\n",
       "<table border=\"1\" class=\"dataframe\">\n",
       "  <thead>\n",
       "    <tr style=\"text-align: right;\">\n",
       "      <th></th>\n",
       "      <th>posting</th>\n",
       "      <th>date</th>\n",
       "      <th>month</th>\n",
       "      <th>year</th>\n",
       "      <th>day</th>\n",
       "      <th>time</th>\n",
       "      <th>offences</th>\n",
       "      <th>crime_categories</th>\n",
       "      <th>partoftheday</th>\n",
       "      <th>latitude</th>\n",
       "      <th>longitude</th>\n",
       "      <th>location</th>\n",
       "    </tr>\n",
       "  </thead>\n",
       "  <tbody>\n",
       "    <tr>\n",
       "      <th>0</th>\n",
       "      <td>Allama Iqbal Town</td>\n",
       "      <td>26</td>\n",
       "      <td>1</td>\n",
       "      <td>2018</td>\n",
       "      <td>Friday</td>\n",
       "      <td>0:00</td>\n",
       "      <td>Outraging the Modesty of Women</td>\n",
       "      <td>Crime Against Person</td>\n",
       "      <td>1st</td>\n",
       "      <td>31.5124</td>\n",
       "      <td>74.2845</td>\n",
       "      <td>31.5124,74.2845</td>\n",
       "    </tr>\n",
       "    <tr>\n",
       "      <th>20879</th>\n",
       "      <td>Green Town</td>\n",
       "      <td>30</td>\n",
       "      <td>1</td>\n",
       "      <td>2018</td>\n",
       "      <td>Tuesday</td>\n",
       "      <td>16:10</td>\n",
       "      <td>Other Crime</td>\n",
       "      <td>Others</td>\n",
       "      <td>5th</td>\n",
       "      <td>31.4346</td>\n",
       "      <td>74.3074</td>\n",
       "      <td>31.4346,74.3074</td>\n",
       "    </tr>\n",
       "    <tr>\n",
       "      <th>11374</th>\n",
       "      <td>Johar Town</td>\n",
       "      <td>29</td>\n",
       "      <td>1</td>\n",
       "      <td>2018</td>\n",
       "      <td>Monday</td>\n",
       "      <td>11:15</td>\n",
       "      <td>Cheque Dishonour</td>\n",
       "      <td>Crime Against Person</td>\n",
       "      <td>3rd</td>\n",
       "      <td>31.4621</td>\n",
       "      <td>74.2942</td>\n",
       "      <td>31.4621,74.2942</td>\n",
       "    </tr>\n",
       "    <tr>\n",
       "      <th>20861</th>\n",
       "      <td>Cantt</td>\n",
       "      <td>7</td>\n",
       "      <td>1</td>\n",
       "      <td>2018</td>\n",
       "      <td>Sunday</td>\n",
       "      <td>16:10</td>\n",
       "      <td>Narcotics</td>\n",
       "      <td>Others</td>\n",
       "      <td>5th</td>\n",
       "      <td>31.5196</td>\n",
       "      <td>74.3889</td>\n",
       "      <td>31.5196,74.3889</td>\n",
       "    </tr>\n",
       "    <tr>\n",
       "      <th>11375</th>\n",
       "      <td>Johar Town</td>\n",
       "      <td>25</td>\n",
       "      <td>1</td>\n",
       "      <td>2018</td>\n",
       "      <td>Thursday</td>\n",
       "      <td>11:15</td>\n",
       "      <td>Miscellaneous</td>\n",
       "      <td>Others</td>\n",
       "      <td>3rd</td>\n",
       "      <td>31.4621</td>\n",
       "      <td>74.2942</td>\n",
       "      <td>31.4621,74.2942</td>\n",
       "    </tr>\n",
       "  </tbody>\n",
       "</table>\n",
       "</div>"
      ],
      "text/plain": [
       "                 posting  date  month  year       day   time  \\\n",
       "0      Allama Iqbal Town    26      1  2018    Friday   0:00   \n",
       "20879         Green Town    30      1  2018   Tuesday  16:10   \n",
       "11374         Johar Town    29      1  2018    Monday  11:15   \n",
       "20861              Cantt     7      1  2018    Sunday  16:10   \n",
       "11375         Johar Town    25      1  2018  Thursday  11:15   \n",
       "\n",
       "                             offences      crime_categories partoftheday  \\\n",
       "0      Outraging the Modesty of Women  Crime Against Person          1st   \n",
       "20879                     Other Crime                Others          5th   \n",
       "11374                Cheque Dishonour  Crime Against Person          3rd   \n",
       "20861                       Narcotics                Others          5th   \n",
       "11375                   Miscellaneous                Others          3rd   \n",
       "\n",
       "       latitude  longitude         location  \n",
       "0       31.5124    74.2845  31.5124,74.2845  \n",
       "20879   31.4346    74.3074  31.4346,74.3074  \n",
       "11374   31.4621    74.2942  31.4621,74.2942  \n",
       "20861   31.5196    74.3889  31.5196,74.3889  \n",
       "11375   31.4621    74.2942  31.4621,74.2942  "
      ]
     },
     "execution_count": 30,
     "metadata": {},
     "output_type": "execute_result"
    }
   ],
   "source": [
    "# Sort the rows of dataframe by column \n",
    "m_df1 = tr_df.sort_values(by ='month')\n",
    "m_df1.head()"
   ]
  },
  {
   "cell_type": "code",
   "execution_count": 7,
   "metadata": {},
   "outputs": [],
   "source": [
    "obj_df = tr_df"
   ]
  },
  {
   "cell_type": "code",
   "execution_count": 8,
   "metadata": {},
   "outputs": [
    {
     "name": "stderr",
     "output_type": "stream",
     "text": [
      "C:\\Users\\zarnab shahid\\Anaconda3\\lib\\site-packages\\sklearn\\preprocessing\\label.py:235: DataConversionWarning: A column-vector y was passed when a 1d array was expected. Please change the shape of y to (n_samples, ), for example using ravel().\n",
      "  y = column_or_1d(y, warn=True)\n"
     ]
    },
    {
     "data": {
      "text/html": [
       "<div>\n",
       "<style scoped>\n",
       "    .dataframe tbody tr th:only-of-type {\n",
       "        vertical-align: middle;\n",
       "    }\n",
       "\n",
       "    .dataframe tbody tr th {\n",
       "        vertical-align: top;\n",
       "    }\n",
       "\n",
       "    .dataframe thead th {\n",
       "        text-align: right;\n",
       "    }\n",
       "</style>\n",
       "<table border=\"1\" class=\"dataframe\">\n",
       "  <thead>\n",
       "    <tr style=\"text-align: right;\">\n",
       "      <th></th>\n",
       "      <th>offences</th>\n",
       "      <th>offences_code</th>\n",
       "    </tr>\n",
       "  </thead>\n",
       "  <tbody>\n",
       "    <tr>\n",
       "      <th>0</th>\n",
       "      <td>Outraging the Modesty of Women</td>\n",
       "      <td>32</td>\n",
       "    </tr>\n",
       "    <tr>\n",
       "      <th>1</th>\n",
       "      <td>Other Crime</td>\n",
       "      <td>29</td>\n",
       "    </tr>\n",
       "    <tr>\n",
       "      <th>2</th>\n",
       "      <td>Other Crime</td>\n",
       "      <td>29</td>\n",
       "    </tr>\n",
       "    <tr>\n",
       "      <th>3</th>\n",
       "      <td>punjab arms ordinance bill of 2015</td>\n",
       "      <td>68</td>\n",
       "    </tr>\n",
       "    <tr>\n",
       "      <th>4</th>\n",
       "      <td>Other Crime</td>\n",
       "      <td>29</td>\n",
       "    </tr>\n",
       "    <tr>\n",
       "      <th>5</th>\n",
       "      <td>punjab information temporary residence ordinance</td>\n",
       "      <td>70</td>\n",
       "    </tr>\n",
       "    <tr>\n",
       "      <th>6</th>\n",
       "      <td>Rape</td>\n",
       "      <td>40</td>\n",
       "    </tr>\n",
       "    <tr>\n",
       "      <th>7</th>\n",
       "      <td>Other Crime</td>\n",
       "      <td>29</td>\n",
       "    </tr>\n",
       "    <tr>\n",
       "      <th>8</th>\n",
       "      <td>M/Cycle Theft</td>\n",
       "      <td>24</td>\n",
       "    </tr>\n",
       "    <tr>\n",
       "      <th>9</th>\n",
       "      <td>Other Crime</td>\n",
       "      <td>29</td>\n",
       "    </tr>\n",
       "    <tr>\n",
       "      <th>10</th>\n",
       "      <td>Other Crime</td>\n",
       "      <td>29</td>\n",
       "    </tr>\n",
       "  </tbody>\n",
       "</table>\n",
       "</div>"
      ],
      "text/plain": [
       "                                            offences  offences_code\n",
       "0                     Outraging the Modesty of Women             32\n",
       "1                                        Other Crime             29\n",
       "2                                        Other Crime             29\n",
       "3                 punjab arms ordinance bill of 2015             68\n",
       "4                                        Other Crime             29\n",
       "5   punjab information temporary residence ordinance             70\n",
       "6                                               Rape             40\n",
       "7                                        Other Crime             29\n",
       "8                                      M/Cycle Theft             24\n",
       "9                                        Other Crime             29\n",
       "10                                       Other Crime             29"
      ]
     },
     "execution_count": 8,
     "metadata": {},
     "output_type": "execute_result"
    }
   ],
   "source": [
    "obj_df[\"offences_code\"] = label_encoder.fit_transform(obj_df[[\"offences\"]])\n",
    "obj_df[[\"offences\", \"offences_code\"]].head(11)"
   ]
  },
  {
   "cell_type": "code",
   "execution_count": 9,
   "metadata": {},
   "outputs": [
    {
     "data": {
      "text/plain": [
       "array([32, 29, 68, 70, 40, 24,  5, 42, 20, 28,  9, 25, 57, 51, 47, 71, 33,\n",
       "       31, 17, 72,  2, 27, 18, 55,  8, 14, 50, 48, 65, 13, 23,  3, 26, 37,\n",
       "       62, 59, 43, 49, 38, 46, 12, 44,  4,  1, 74,  7, 56, 21, 11, 16, 10,\n",
       "       36, 52, 15, 64, 19, 54, 60, 34, 39, 22, 69, 66, 53, 75, 58, 61, 63,\n",
       "        0, 35, 67, 41,  6, 45, 76, 73, 30], dtype=int64)"
      ]
     },
     "execution_count": 9,
     "metadata": {},
     "output_type": "execute_result"
    }
   ],
   "source": [
    "obj_df[\"offences_code\"].unique()"
   ]
  },
  {
   "cell_type": "code",
   "execution_count": 10,
   "metadata": {},
   "outputs": [
    {
     "data": {
      "text/plain": [
       "array(['Outraging the Modesty of Women', 'Other Crime',\n",
       "       'punjab arms ordinance bill of 2015',\n",
       "       'punjab information temporary residence ordinance', 'Rape',\n",
       "       'M/Cycle Theft', 'Burglary', 'Robbery', 'Kidnapping',\n",
       "       'Non-Fatal Accident', 'Cheque Dishonour', 'Miscellaneous',\n",
       "       'kite flying act', 'begging act ', 'anti-norcotics act',\n",
       "       'punjab security ordinance 2015', 'Overspeeding',\n",
       "       'Other Vehicle Theft', 'Hurt (personal feud)',\n",
       "       'punjab sound system regulation ordinance',\n",
       "       'Attack on Govt. Servant', 'Narcotics', 'Illegal Extortion',\n",
       "       'electricity act', 'Car Theft', 'Gambling', 'arms ordinance act',\n",
       "       'anti-terrorism act', 'price control act', 'Fatal Accident',\n",
       "       'M/Cycle Snatching', 'Attempted Murder', 'Murder',\n",
       "       'Punjab Local Government ordinance 2016', 'one wheeling act',\n",
       "       'loud speaker act', 'Secretarianism',\n",
       "       'anti-terrorism act 1997 ata',\n",
       "       'Punjab Marriage Function ordinance 2016', 'Tresspassing',\n",
       "       'Ehtram-e-Ramzan', 'Smoking health Ordinance', 'Blind Murder',\n",
       "       '382 PPC', 'telephone act', 'Car Snatching',\n",
       "       'illegal gas cylinder act', 'Kidnapping Minors',\n",
       "       'Dacoity/Robbery with Murder', 'Habs e Beja', 'Dacoity',\n",
       "       'Punjab Food Authority Act 2011', 'cigrette act', 'Gang Rape',\n",
       "       'police order act', 'Kidnap for Ransom', 'dengue act',\n",
       "       'new punjab local govt ord 2011', 'Police Encounter',\n",
       "       'Punjab University Broads Act', 'LDA Act 1975',\n",
       "       'punjab fertilizers control act',\n",
       "       'prohibition of expressing matters on walls act 1995',\n",
       "       'copyright act', 'touheen quran act', 'local government act',\n",
       "       'new punjab pure food ord 1960', 'petrolium act 1934',\n",
       "       ' The Punjab Prohibition of Child Labour at Brick KIlns Ordinance 2016',\n",
       "       'Punjab Animal Slaughter Control Act ',\n",
       "       'protection of pakistan ordinance 2013',\n",
       "       'Regulation and Control of Loudspeakers and Amplifiers',\n",
       "       'Canal Cut', 'The Anti Terrorism Act (ATA), 1997',\n",
       "       'tree theft act', 'railway act', 'Other Vehicle Snatching'],\n",
       "      dtype=object)"
      ]
     },
     "execution_count": 10,
     "metadata": {},
     "output_type": "execute_result"
    }
   ],
   "source": [
    "obj_df[\"offences\"].unique()"
   ]
  },
  {
   "cell_type": "code",
   "execution_count": 31,
   "metadata": {},
   "outputs": [
    {
     "data": {
      "text/plain": [
       "array([ 0,  1,  2,  3,  4,  5,  6,  7,  8,  9, 10, 11], dtype=int64)"
      ]
     },
     "execution_count": 31,
     "metadata": {},
     "output_type": "execute_result"
    }
   ],
   "source": [
    "m_df1['month']= label_encoder.fit_transform(m_df1['month']) \n",
    "m_df1['month'].unique()"
   ]
  },
  {
   "cell_type": "code",
   "execution_count": 32,
   "metadata": {},
   "outputs": [
    {
     "data": {
      "text/plain": [
       "array([32, 29,  9, 27, 25, 60, 33, 51, 70, 14, 47, 15, 17, 55, 37, 65, 68,\n",
       "       23, 20,  5, 24, 26, 21, 57, 48, 42,  8,  3,  2, 46, 40, 18, 62, 31,\n",
       "       28, 74,  1, 71, 50, 72, 13,  0, 36, 16,  4,  7, 44, 64, 38, 39, 54,\n",
       "       10, 58, 43, 61, 11, 22, 53, 52, 34, 12, 69, 75, 63, 19, 66, 76, 45,\n",
       "       35, 30, 49,  6, 59, 56, 67, 73, 41], dtype=int64)"
      ]
     },
     "execution_count": 32,
     "metadata": {},
     "output_type": "execute_result"
    }
   ],
   "source": [
    "m_df1['offences']= label_encoder.fit_transform(m_df1['offences']) \n",
    "m_df1['offences'].unique()"
   ]
  },
  {
   "cell_type": "code",
   "execution_count": 33,
   "metadata": {},
   "outputs": [
    {
     "data": {
      "text/html": [
       "<div>\n",
       "<style scoped>\n",
       "    .dataframe tbody tr th:only-of-type {\n",
       "        vertical-align: middle;\n",
       "    }\n",
       "\n",
       "    .dataframe tbody tr th {\n",
       "        vertical-align: top;\n",
       "    }\n",
       "\n",
       "    .dataframe thead th {\n",
       "        text-align: right;\n",
       "    }\n",
       "</style>\n",
       "<table border=\"1\" class=\"dataframe\">\n",
       "  <thead>\n",
       "    <tr style=\"text-align: right;\">\n",
       "      <th></th>\n",
       "      <th>offences</th>\n",
       "    </tr>\n",
       "  </thead>\n",
       "  <tbody>\n",
       "    <tr>\n",
       "      <th>0</th>\n",
       "      <td>32</td>\n",
       "    </tr>\n",
       "    <tr>\n",
       "      <th>20879</th>\n",
       "      <td>29</td>\n",
       "    </tr>\n",
       "    <tr>\n",
       "      <th>11374</th>\n",
       "      <td>9</td>\n",
       "    </tr>\n",
       "    <tr>\n",
       "      <th>20861</th>\n",
       "      <td>27</td>\n",
       "    </tr>\n",
       "    <tr>\n",
       "      <th>11375</th>\n",
       "      <td>25</td>\n",
       "    </tr>\n",
       "  </tbody>\n",
       "</table>\n",
       "</div>"
      ],
      "text/plain": [
       "       offences\n",
       "0            32\n",
       "20879        29\n",
       "11374         9\n",
       "20861        27\n",
       "11375        25"
      ]
     },
     "execution_count": 33,
     "metadata": {},
     "output_type": "execute_result"
    }
   ],
   "source": [
    "X = m_df1.drop([ 'posting', 'date', 'month', 'year', 'day', 'time',\n",
    "       'crime_categories', 'partoftheday', 'latitude', 'longitude',\n",
    "       'location'] , axis=1)\n",
    "X.head()"
   ]
  },
  {
   "cell_type": "code",
   "execution_count": 34,
   "metadata": {},
   "outputs": [
    {
     "data": {
      "text/html": [
       "<div>\n",
       "<style scoped>\n",
       "    .dataframe tbody tr th:only-of-type {\n",
       "        vertical-align: middle;\n",
       "    }\n",
       "\n",
       "    .dataframe tbody tr th {\n",
       "        vertical-align: top;\n",
       "    }\n",
       "\n",
       "    .dataframe thead th {\n",
       "        text-align: right;\n",
       "    }\n",
       "</style>\n",
       "<table border=\"1\" class=\"dataframe\">\n",
       "  <thead>\n",
       "    <tr style=\"text-align: right;\">\n",
       "      <th></th>\n",
       "      <th>month</th>\n",
       "    </tr>\n",
       "  </thead>\n",
       "  <tbody>\n",
       "    <tr>\n",
       "      <th>0</th>\n",
       "      <td>0</td>\n",
       "    </tr>\n",
       "    <tr>\n",
       "      <th>20879</th>\n",
       "      <td>0</td>\n",
       "    </tr>\n",
       "    <tr>\n",
       "      <th>11374</th>\n",
       "      <td>0</td>\n",
       "    </tr>\n",
       "    <tr>\n",
       "      <th>20861</th>\n",
       "      <td>0</td>\n",
       "    </tr>\n",
       "    <tr>\n",
       "      <th>11375</th>\n",
       "      <td>0</td>\n",
       "    </tr>\n",
       "  </tbody>\n",
       "</table>\n",
       "</div>"
      ],
      "text/plain": [
       "       month\n",
       "0          0\n",
       "20879      0\n",
       "11374      0\n",
       "20861      0\n",
       "11375      0"
      ]
     },
     "execution_count": 34,
     "metadata": {},
     "output_type": "execute_result"
    }
   ],
   "source": [
    "y = m_df1.drop(['posting', 'date', 'day', 'year', 'crime_categories', 'time', 'offences','partoftheday','latitude','longitude','location'] , axis=1)\n",
    "y.head()"
   ]
  },
  {
   "cell_type": "code",
   "execution_count": 35,
   "metadata": {},
   "outputs": [],
   "source": [
    "from sklearn.model_selection import train_test_split\n",
    "X_train, X_test, y_train, y_test = train_test_split(X, y, test_size = 0.20)"
   ]
  },
  {
   "cell_type": "code",
   "execution_count": 36,
   "metadata": {},
   "outputs": [],
   "source": [
    "from sklearn.linear_model import LogisticRegression\n",
    "from sklearn.svm import SVC\n",
    "from sklearn.ensemble import RandomForestClassifier\n",
    "from sklearn.tree import DecisionTreeClassifier\n",
    "from sklearn.neighbors import KNeighborsClassifier\n",
    "from sklearn.model_selection import cross_val_score"
   ]
  },
  {
   "cell_type": "code",
   "execution_count": 37,
   "metadata": {},
   "outputs": [
    {
     "data": {
      "text/plain": [
       "0.13553078665387677"
      ]
     },
     "execution_count": 37,
     "metadata": {},
     "output_type": "execute_result"
    }
   ],
   "source": [
    "#rfc training data set\n",
    "scores_rfc = cross_val_score(RandomForestClassifier(n_estimators=40),X_train, y_train.values.ravel(), cv=5)\n",
    "np.average(scores_rfc)"
   ]
  },
  {
   "cell_type": "code",
   "execution_count": 38,
   "metadata": {},
   "outputs": [
    {
     "data": {
      "text/plain": [
       "0.12994023799492713"
      ]
     },
     "execution_count": 38,
     "metadata": {},
     "output_type": "execute_result"
    }
   ],
   "source": [
    "#rfc with full dataset\n",
    "scores_rfc = cross_val_score(RandomForestClassifier(n_estimators=40),X, y.values.ravel(), cv=5)\n",
    "np.average(scores_rfc)"
   ]
  },
  {
   "cell_type": "code",
   "execution_count": 39,
   "metadata": {},
   "outputs": [
    {
     "data": {
      "text/plain": [
       "0.10767936382937957"
      ]
     },
     "execution_count": 39,
     "metadata": {},
     "output_type": "execute_result"
    }
   ],
   "source": [
    "#knn with full dataset\n",
    "scores_knn = cross_val_score(KNeighborsClassifier(n_neighbors=40),X,y.values.ravel(),cv=5)\n",
    "np.average(scores_knn)"
   ]
  },
  {
   "cell_type": "code",
   "execution_count": 40,
   "metadata": {},
   "outputs": [
    {
     "data": {
      "text/plain": [
       "0.12114639252968214"
      ]
     },
     "execution_count": 40,
     "metadata": {},
     "output_type": "execute_result"
    }
   ],
   "source": [
    "#knn with train dataset\n",
    "scores_knn = cross_val_score(KNeighborsClassifier(n_neighbors=40),X_train,y_train.values.ravel(),cv=5)\n",
    "np.average(scores_knn)"
   ]
  },
  {
   "cell_type": "code",
   "execution_count": 41,
   "metadata": {},
   "outputs": [
    {
     "data": {
      "text/plain": [
       "0.129702315432569"
      ]
     },
     "execution_count": 41,
     "metadata": {},
     "output_type": "execute_result"
    }
   ],
   "source": [
    "#dectree with full dataset \n",
    "scores_dec=cross_val_score(DecisionTreeClassifier( random_state=40),X,y.values.ravel(),cv=5)\n",
    "np.average(scores_dec)"
   ]
  },
  {
   "cell_type": "code",
   "execution_count": 42,
   "metadata": {},
   "outputs": [
    {
     "data": {
      "text/plain": [
       "0.13623706527532264"
      ]
     },
     "execution_count": 42,
     "metadata": {},
     "output_type": "execute_result"
    }
   ],
   "source": [
    "#dectree with train dataset \n",
    "scores_dec=cross_val_score(DecisionTreeClassifier( random_state=40),X_train,y_train.values.ravel(),cv=5)\n",
    "np.average(scores_dec)"
   ]
  },
  {
   "cell_type": "code",
   "execution_count": 43,
   "metadata": {},
   "outputs": [
    {
     "data": {
      "text/plain": [
       "0.11061640397438324"
      ]
     },
     "execution_count": 43,
     "metadata": {},
     "output_type": "execute_result"
    }
   ],
   "source": [
    "#lgr full dataset\n",
    "scores_lgr = cross_val_score(LogisticRegression(solver='liblinear',multi_class='ovr'), X, y.values.ravel(),cv=5)\n",
    "np.average(scores_lgr)"
   ]
  },
  {
   "cell_type": "code",
   "execution_count": 44,
   "metadata": {},
   "outputs": [
    {
     "data": {
      "text/plain": [
       "0.11211869283960987"
      ]
     },
     "execution_count": 44,
     "metadata": {},
     "output_type": "execute_result"
    }
   ],
   "source": [
    "#lgr train dataset\n",
    "scores_lgr = cross_val_score(LogisticRegression(solver='liblinear',multi_class='ovr'), X_train, y_train.values.ravel(),cv=5)\n",
    "np.average(scores_lgr)"
   ]
  },
  {
   "cell_type": "code",
   "execution_count": 45,
   "metadata": {},
   "outputs": [
    {
     "data": {
      "text/plain": [
       "0.13837693222354341"
      ]
     },
     "execution_count": 45,
     "metadata": {},
     "output_type": "execute_result"
    }
   ],
   "source": [
    "#Random Forest\n",
    "\n",
    "rf = RandomForestClassifier(n_estimators=40)\n",
    "rf.fit(X_train,y_train.values.ravel())\n",
    "rf.score(X_test, y_test.values.ravel())"
   ]
  },
  {
   "cell_type": "code",
   "execution_count": 46,
   "metadata": {},
   "outputs": [],
   "source": [
    "#saving pickle file\n",
    "# save the model to disk\n",
    "filename = 'finalized_model_month.sav'\n",
    "pickle.dump(rf, open(filename, 'wb'))"
   ]
  },
  {
   "cell_type": "code",
   "execution_count": 47,
   "metadata": {},
   "outputs": [
    {
     "name": "stdout",
     "output_type": "stream",
     "text": [
      "0.13837693222354341\n"
     ]
    }
   ],
   "source": [
    "# some time later...\n",
    " \n",
    "# load the model from disk\n",
    "loaded_model = pickle.load(open('finalized_model_month.sav', 'rb'))\n",
    "result = loaded_model.score(X_test, y_test)\n",
    "print(result)"
   ]
  },
  {
   "cell_type": "code",
   "execution_count": 17,
   "metadata": {},
   "outputs": [
    {
     "name": "stdout",
     "output_type": "stream",
     "text": [
      "Please enter crime :34\n",
      "There is a 14.164684898929844 % chance of this crime occuring in\u001b[1m October\n"
     ]
    }
   ],
   "source": [
    "#PREDICTING ON UNSEEN EXAMPLE\n",
    "#Taking Inputs:\n",
    "\n",
    "\n",
    "#posting = int(input(\"Please enter your GRE Score :\"))\n",
    "crime = int(input(\"Please enter crime :\"))\n",
    "\n",
    "\n",
    "user_data = pd.DataFrame({'crime':[crime]})\n",
    "\n",
    "\n",
    "user_model = scipy.sparse.csr_matrix(user_data.values)\n",
    "predict = loaded_model.predict(user_model)\n",
    "\n",
    "if (predict == 0):\n",
    "    print(\"There is a\", result*100 , \"% chance of this crime occuring in \\033[1m  January\" )\n",
    "elif(predict == 1):\n",
    "    print(\"There is a\", result*100 , \"% chance of this crime occuring in \\033[1m Februaury\")\n",
    "elif(predict == 2):\n",
    "     print(\"There is a\", result*100 , \"% chance of this crime occuring in \\033[1m March\")     \n",
    "elif(predict == 3):\n",
    "    print(\"There is a\", result*100 , \"% chance of this crime occuring in \\033[1m April\")\n",
    "elif(predict == 4):\n",
    "    print(\"There is a\", result*100 , \"% chance of this crime occuring in \\033[1m May\")\n",
    "elif(predict == 5):\n",
    "    print(\"There is a\", result*100 , \"% chance of this crime occuring in \\033[1m June\")\n",
    "elif(predict == 6):\n",
    "    print(\"There is a\", result*100 , \"% chance of this crime occuring in \\033[1m July\")\n",
    "elif(predict == 7):\n",
    "    print(\"There is a\", result*100 , \"% chance of this crime occuring in \\033[1m August\")\n",
    "elif(predict == 8):\n",
    "    print(\"There is a\", result*100 , \"% chance of this crime occuring in \\033[1m September\")\n",
    "elif(predict == 9):\n",
    "    print(\"There is a\", result*100 , \"% chance of this crime occuring in\\033[1m October\")\n",
    "elif(predict == 10):\n",
    "    print(\"There is a\", result*100 , \"% chance of this crime occuring in6 \\033[1m November\")\n",
    "elif(predict == 11):\n",
    "    print(\"There is a\", result*100 , \"% chance of this crime occuring in \\033[1m December\")"
   ]
  },
  {
   "cell_type": "code",
   "execution_count": null,
   "metadata": {},
   "outputs": [],
   "source": []
  }
 ],
 "metadata": {
  "kernelspec": {
   "display_name": "Python 3",
   "language": "python",
   "name": "python3"
  },
  "language_info": {
   "codemirror_mode": {
    "name": "ipython",
    "version": 3
   },
   "file_extension": ".py",
   "mimetype": "text/x-python",
   "name": "python",
   "nbconvert_exporter": "python",
   "pygments_lexer": "ipython3",
   "version": "3.7.3"
  }
 },
 "nbformat": 4,
 "nbformat_minor": 2
}
